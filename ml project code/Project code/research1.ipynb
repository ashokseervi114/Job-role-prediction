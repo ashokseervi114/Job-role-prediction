{
 "cells": [
  {
   "cell_type": "code",
   "execution_count": 1,
   "metadata": {},
   "outputs": [],
   "source": [
    "import pandas as pd\n",
    "import numpy as np\n",
    "from sklearn import decomposition\n",
    "import matplotlib.pyplot as plt"
   ]
  },
  {
   "cell_type": "code",
   "execution_count": 2,
   "metadata": {},
   "outputs": [],
   "source": [
    "dataset = pd.read_csv(\"row_data.csv\")"
   ]
  },
  {
   "cell_type": "code",
   "execution_count": 3,
   "metadata": {},
   "outputs": [
    {
     "data": {
      "text/html": [
       "<div>\n",
       "<style scoped>\n",
       "    .dataframe tbody tr th:only-of-type {\n",
       "        vertical-align: middle;\n",
       "    }\n",
       "\n",
       "    .dataframe tbody tr th {\n",
       "        vertical-align: top;\n",
       "    }\n",
       "\n",
       "    .dataframe thead th {\n",
       "        text-align: right;\n",
       "    }\n",
       "</style>\n",
       "<table border=\"1\" class=\"dataframe\">\n",
       "  <thead>\n",
       "    <tr style=\"text-align: right;\">\n",
       "      <th></th>\n",
       "      <th>Acedamic percentage in Operating Systems</th>\n",
       "      <th>percentage in Algorithms</th>\n",
       "      <th>Percentage in Programming Concepts</th>\n",
       "      <th>Percentage in Software Engineering</th>\n",
       "      <th>Percentage in Computer Networks</th>\n",
       "      <th>Percentage in Electronics Subjects</th>\n",
       "      <th>Percentage in Computer Architecture</th>\n",
       "      <th>Percentage in Mathematics</th>\n",
       "      <th>Percentage in Communication skills</th>\n",
       "      <th>Hours working per day</th>\n",
       "      <th>...</th>\n",
       "      <th>Interested Type of Books</th>\n",
       "      <th>Salary Range Expected</th>\n",
       "      <th>In a Realtionship</th>\n",
       "      <th>Gentle or Tuff behaviour</th>\n",
       "      <th>Management or Technical</th>\n",
       "      <th>Salarywork</th>\n",
       "      <th>hardsmart worker</th>\n",
       "      <th>worked in teams ever</th>\n",
       "      <th>Introvert</th>\n",
       "      <th>Suggested Job Role</th>\n",
       "    </tr>\n",
       "  </thead>\n",
       "  <tbody>\n",
       "    <tr>\n",
       "      <th>0</th>\n",
       "      <td>69</td>\n",
       "      <td>63</td>\n",
       "      <td>78</td>\n",
       "      <td>87</td>\n",
       "      <td>94</td>\n",
       "      <td>94</td>\n",
       "      <td>87</td>\n",
       "      <td>84</td>\n",
       "      <td>61</td>\n",
       "      <td>9</td>\n",
       "      <td>...</td>\n",
       "      <td>Prayer books</td>\n",
       "      <td>salary</td>\n",
       "      <td>no</td>\n",
       "      <td>stubborn</td>\n",
       "      <td>Management</td>\n",
       "      <td>salary</td>\n",
       "      <td>hard worker</td>\n",
       "      <td>yes</td>\n",
       "      <td>no</td>\n",
       "      <td>Database Developer</td>\n",
       "    </tr>\n",
       "    <tr>\n",
       "      <th>1</th>\n",
       "      <td>78</td>\n",
       "      <td>62</td>\n",
       "      <td>73</td>\n",
       "      <td>60</td>\n",
       "      <td>71</td>\n",
       "      <td>70</td>\n",
       "      <td>73</td>\n",
       "      <td>84</td>\n",
       "      <td>91</td>\n",
       "      <td>12</td>\n",
       "      <td>...</td>\n",
       "      <td>Childrens</td>\n",
       "      <td>salary</td>\n",
       "      <td>yes</td>\n",
       "      <td>gentle</td>\n",
       "      <td>Technical</td>\n",
       "      <td>salary</td>\n",
       "      <td>hard worker</td>\n",
       "      <td>no</td>\n",
       "      <td>yes</td>\n",
       "      <td>Portal Administrator</td>\n",
       "    </tr>\n",
       "    <tr>\n",
       "      <th>2</th>\n",
       "      <td>71</td>\n",
       "      <td>86</td>\n",
       "      <td>91</td>\n",
       "      <td>87</td>\n",
       "      <td>61</td>\n",
       "      <td>81</td>\n",
       "      <td>72</td>\n",
       "      <td>72</td>\n",
       "      <td>94</td>\n",
       "      <td>11</td>\n",
       "      <td>...</td>\n",
       "      <td>Travel</td>\n",
       "      <td>Work</td>\n",
       "      <td>no</td>\n",
       "      <td>stubborn</td>\n",
       "      <td>Management</td>\n",
       "      <td>work</td>\n",
       "      <td>hard worker</td>\n",
       "      <td>no</td>\n",
       "      <td>yes</td>\n",
       "      <td>Portal Administrator</td>\n",
       "    </tr>\n",
       "    <tr>\n",
       "      <th>3</th>\n",
       "      <td>76</td>\n",
       "      <td>87</td>\n",
       "      <td>60</td>\n",
       "      <td>84</td>\n",
       "      <td>89</td>\n",
       "      <td>73</td>\n",
       "      <td>62</td>\n",
       "      <td>88</td>\n",
       "      <td>69</td>\n",
       "      <td>7</td>\n",
       "      <td>...</td>\n",
       "      <td>Romance</td>\n",
       "      <td>Work</td>\n",
       "      <td>yes</td>\n",
       "      <td>gentle</td>\n",
       "      <td>Management</td>\n",
       "      <td>work</td>\n",
       "      <td>smart worker</td>\n",
       "      <td>yes</td>\n",
       "      <td>yes</td>\n",
       "      <td>Systems Security Administrator</td>\n",
       "    </tr>\n",
       "    <tr>\n",
       "      <th>4</th>\n",
       "      <td>92</td>\n",
       "      <td>62</td>\n",
       "      <td>90</td>\n",
       "      <td>67</td>\n",
       "      <td>71</td>\n",
       "      <td>89</td>\n",
       "      <td>73</td>\n",
       "      <td>71</td>\n",
       "      <td>73</td>\n",
       "      <td>4</td>\n",
       "      <td>...</td>\n",
       "      <td>Cookbooks</td>\n",
       "      <td>salary</td>\n",
       "      <td>no</td>\n",
       "      <td>stubborn</td>\n",
       "      <td>Management</td>\n",
       "      <td>work</td>\n",
       "      <td>hard worker</td>\n",
       "      <td>yes</td>\n",
       "      <td>yes</td>\n",
       "      <td>Business Systems Analyst</td>\n",
       "    </tr>\n",
       "    <tr>\n",
       "      <th>5</th>\n",
       "      <td>88</td>\n",
       "      <td>86</td>\n",
       "      <td>62</td>\n",
       "      <td>79</td>\n",
       "      <td>93</td>\n",
       "      <td>84</td>\n",
       "      <td>69</td>\n",
       "      <td>71</td>\n",
       "      <td>82</td>\n",
       "      <td>11</td>\n",
       "      <td>...</td>\n",
       "      <td>Self help</td>\n",
       "      <td>salary</td>\n",
       "      <td>no</td>\n",
       "      <td>stubborn</td>\n",
       "      <td>Management</td>\n",
       "      <td>work</td>\n",
       "      <td>smart worker</td>\n",
       "      <td>yes</td>\n",
       "      <td>no</td>\n",
       "      <td>Software Systems Engineer</td>\n",
       "    </tr>\n",
       "    <tr>\n",
       "      <th>6</th>\n",
       "      <td>93</td>\n",
       "      <td>77</td>\n",
       "      <td>69</td>\n",
       "      <td>79</td>\n",
       "      <td>90</td>\n",
       "      <td>93</td>\n",
       "      <td>73</td>\n",
       "      <td>63</td>\n",
       "      <td>77</td>\n",
       "      <td>6</td>\n",
       "      <td>...</td>\n",
       "      <td>Drama</td>\n",
       "      <td>Work</td>\n",
       "      <td>yes</td>\n",
       "      <td>gentle</td>\n",
       "      <td>Technical</td>\n",
       "      <td>salary</td>\n",
       "      <td>hard worker</td>\n",
       "      <td>yes</td>\n",
       "      <td>yes</td>\n",
       "      <td>Database Developer</td>\n",
       "    </tr>\n",
       "    <tr>\n",
       "      <th>7</th>\n",
       "      <td>84</td>\n",
       "      <td>72</td>\n",
       "      <td>88</td>\n",
       "      <td>62</td>\n",
       "      <td>66</td>\n",
       "      <td>63</td>\n",
       "      <td>78</td>\n",
       "      <td>94</td>\n",
       "      <td>60</td>\n",
       "      <td>12</td>\n",
       "      <td>...</td>\n",
       "      <td>Romance</td>\n",
       "      <td>salary</td>\n",
       "      <td>no</td>\n",
       "      <td>stubborn</td>\n",
       "      <td>Technical</td>\n",
       "      <td>salary</td>\n",
       "      <td>smart worker</td>\n",
       "      <td>no</td>\n",
       "      <td>no</td>\n",
       "      <td>Business Intelligence Analyst</td>\n",
       "    </tr>\n",
       "    <tr>\n",
       "      <th>8</th>\n",
       "      <td>73</td>\n",
       "      <td>66</td>\n",
       "      <td>66</td>\n",
       "      <td>81</td>\n",
       "      <td>81</td>\n",
       "      <td>69</td>\n",
       "      <td>61</td>\n",
       "      <td>87</td>\n",
       "      <td>90</td>\n",
       "      <td>10</td>\n",
       "      <td>...</td>\n",
       "      <td>Math</td>\n",
       "      <td>Work</td>\n",
       "      <td>no</td>\n",
       "      <td>gentle</td>\n",
       "      <td>Technical</td>\n",
       "      <td>work</td>\n",
       "      <td>hard worker</td>\n",
       "      <td>yes</td>\n",
       "      <td>yes</td>\n",
       "      <td>Business Systems Analyst</td>\n",
       "    </tr>\n",
       "    <tr>\n",
       "      <th>9</th>\n",
       "      <td>62</td>\n",
       "      <td>76</td>\n",
       "      <td>85</td>\n",
       "      <td>91</td>\n",
       "      <td>82</td>\n",
       "      <td>69</td>\n",
       "      <td>63</td>\n",
       "      <td>63</td>\n",
       "      <td>81</td>\n",
       "      <td>10</td>\n",
       "      <td>...</td>\n",
       "      <td>Religion-Spirituality</td>\n",
       "      <td>Work</td>\n",
       "      <td>yes</td>\n",
       "      <td>gentle</td>\n",
       "      <td>Management</td>\n",
       "      <td>salary</td>\n",
       "      <td>hard worker</td>\n",
       "      <td>yes</td>\n",
       "      <td>no</td>\n",
       "      <td>CRM Technical Developer</td>\n",
       "    </tr>\n",
       "    <tr>\n",
       "      <th>10</th>\n",
       "      <td>73</td>\n",
       "      <td>80</td>\n",
       "      <td>70</td>\n",
       "      <td>83</td>\n",
       "      <td>61</td>\n",
       "      <td>82</td>\n",
       "      <td>75</td>\n",
       "      <td>94</td>\n",
       "      <td>89</td>\n",
       "      <td>8</td>\n",
       "      <td>...</td>\n",
       "      <td>Cookbooks</td>\n",
       "      <td>Work</td>\n",
       "      <td>yes</td>\n",
       "      <td>stubborn</td>\n",
       "      <td>Management</td>\n",
       "      <td>salary</td>\n",
       "      <td>hard worker</td>\n",
       "      <td>yes</td>\n",
       "      <td>yes</td>\n",
       "      <td>Mobile Applications Developer</td>\n",
       "    </tr>\n",
       "    <tr>\n",
       "      <th>11</th>\n",
       "      <td>63</td>\n",
       "      <td>76</td>\n",
       "      <td>81</td>\n",
       "      <td>90</td>\n",
       "      <td>70</td>\n",
       "      <td>72</td>\n",
       "      <td>86</td>\n",
       "      <td>89</td>\n",
       "      <td>85</td>\n",
       "      <td>8</td>\n",
       "      <td>...</td>\n",
       "      <td>Anthology</td>\n",
       "      <td>Work</td>\n",
       "      <td>yes</td>\n",
       "      <td>stubborn</td>\n",
       "      <td>Management</td>\n",
       "      <td>work</td>\n",
       "      <td>smart worker</td>\n",
       "      <td>yes</td>\n",
       "      <td>no</td>\n",
       "      <td>UX Designer</td>\n",
       "    </tr>\n",
       "    <tr>\n",
       "      <th>12</th>\n",
       "      <td>63</td>\n",
       "      <td>64</td>\n",
       "      <td>61</td>\n",
       "      <td>67</td>\n",
       "      <td>61</td>\n",
       "      <td>70</td>\n",
       "      <td>65</td>\n",
       "      <td>64</td>\n",
       "      <td>79</td>\n",
       "      <td>8</td>\n",
       "      <td>...</td>\n",
       "      <td>Trilogy</td>\n",
       "      <td>salary</td>\n",
       "      <td>yes</td>\n",
       "      <td>stubborn</td>\n",
       "      <td>Technical</td>\n",
       "      <td>work</td>\n",
       "      <td>smart worker</td>\n",
       "      <td>yes</td>\n",
       "      <td>no</td>\n",
       "      <td>CRM Technical Developer</td>\n",
       "    </tr>\n",
       "    <tr>\n",
       "      <th>13</th>\n",
       "      <td>68</td>\n",
       "      <td>93</td>\n",
       "      <td>77</td>\n",
       "      <td>60</td>\n",
       "      <td>77</td>\n",
       "      <td>81</td>\n",
       "      <td>67</td>\n",
       "      <td>81</td>\n",
       "      <td>91</td>\n",
       "      <td>12</td>\n",
       "      <td>...</td>\n",
       "      <td>Autobiographies</td>\n",
       "      <td>salary</td>\n",
       "      <td>yes</td>\n",
       "      <td>stubborn</td>\n",
       "      <td>Management</td>\n",
       "      <td>work</td>\n",
       "      <td>smart worker</td>\n",
       "      <td>yes</td>\n",
       "      <td>yes</td>\n",
       "      <td>Business Systems Analyst</td>\n",
       "    </tr>\n",
       "    <tr>\n",
       "      <th>14</th>\n",
       "      <td>90</td>\n",
       "      <td>83</td>\n",
       "      <td>66</td>\n",
       "      <td>71</td>\n",
       "      <td>65</td>\n",
       "      <td>67</td>\n",
       "      <td>86</td>\n",
       "      <td>63</td>\n",
       "      <td>62</td>\n",
       "      <td>9</td>\n",
       "      <td>...</td>\n",
       "      <td>Math</td>\n",
       "      <td>salary</td>\n",
       "      <td>no</td>\n",
       "      <td>stubborn</td>\n",
       "      <td>Management</td>\n",
       "      <td>work</td>\n",
       "      <td>hard worker</td>\n",
       "      <td>yes</td>\n",
       "      <td>no</td>\n",
       "      <td>Quality Assurance Associate</td>\n",
       "    </tr>\n",
       "    <tr>\n",
       "      <th>15</th>\n",
       "      <td>94</td>\n",
       "      <td>71</td>\n",
       "      <td>63</td>\n",
       "      <td>74</td>\n",
       "      <td>61</td>\n",
       "      <td>69</td>\n",
       "      <td>65</td>\n",
       "      <td>62</td>\n",
       "      <td>68</td>\n",
       "      <td>4</td>\n",
       "      <td>...</td>\n",
       "      <td>Childrens</td>\n",
       "      <td>salary</td>\n",
       "      <td>no</td>\n",
       "      <td>stubborn</td>\n",
       "      <td>Technical</td>\n",
       "      <td>salary</td>\n",
       "      <td>hard worker</td>\n",
       "      <td>no</td>\n",
       "      <td>no</td>\n",
       "      <td>Web Developer</td>\n",
       "    </tr>\n",
       "    <tr>\n",
       "      <th>16</th>\n",
       "      <td>60</td>\n",
       "      <td>92</td>\n",
       "      <td>94</td>\n",
       "      <td>90</td>\n",
       "      <td>62</td>\n",
       "      <td>94</td>\n",
       "      <td>62</td>\n",
       "      <td>73</td>\n",
       "      <td>60</td>\n",
       "      <td>11</td>\n",
       "      <td>...</td>\n",
       "      <td>Mystery</td>\n",
       "      <td>salary</td>\n",
       "      <td>yes</td>\n",
       "      <td>gentle</td>\n",
       "      <td>Technical</td>\n",
       "      <td>work</td>\n",
       "      <td>hard worker</td>\n",
       "      <td>yes</td>\n",
       "      <td>yes</td>\n",
       "      <td>Web Developer</td>\n",
       "    </tr>\n",
       "    <tr>\n",
       "      <th>17</th>\n",
       "      <td>92</td>\n",
       "      <td>86</td>\n",
       "      <td>61</td>\n",
       "      <td>63</td>\n",
       "      <td>64</td>\n",
       "      <td>65</td>\n",
       "      <td>92</td>\n",
       "      <td>65</td>\n",
       "      <td>60</td>\n",
       "      <td>4</td>\n",
       "      <td>...</td>\n",
       "      <td>Math</td>\n",
       "      <td>Work</td>\n",
       "      <td>yes</td>\n",
       "      <td>stubborn</td>\n",
       "      <td>Management</td>\n",
       "      <td>salary</td>\n",
       "      <td>smart worker</td>\n",
       "      <td>yes</td>\n",
       "      <td>no</td>\n",
       "      <td>Information Security Analyst</td>\n",
       "    </tr>\n",
       "    <tr>\n",
       "      <th>18</th>\n",
       "      <td>82</td>\n",
       "      <td>91</td>\n",
       "      <td>68</td>\n",
       "      <td>86</td>\n",
       "      <td>78</td>\n",
       "      <td>61</td>\n",
       "      <td>91</td>\n",
       "      <td>82</td>\n",
       "      <td>82</td>\n",
       "      <td>12</td>\n",
       "      <td>...</td>\n",
       "      <td>Diaries</td>\n",
       "      <td>Work</td>\n",
       "      <td>yes</td>\n",
       "      <td>stubborn</td>\n",
       "      <td>Technical</td>\n",
       "      <td>work</td>\n",
       "      <td>hard worker</td>\n",
       "      <td>yes</td>\n",
       "      <td>no</td>\n",
       "      <td>CRM Business Analyst</td>\n",
       "    </tr>\n",
       "    <tr>\n",
       "      <th>19</th>\n",
       "      <td>90</td>\n",
       "      <td>73</td>\n",
       "      <td>90</td>\n",
       "      <td>67</td>\n",
       "      <td>63</td>\n",
       "      <td>88</td>\n",
       "      <td>67</td>\n",
       "      <td>60</td>\n",
       "      <td>69</td>\n",
       "      <td>12</td>\n",
       "      <td>...</td>\n",
       "      <td>Autobiographies</td>\n",
       "      <td>Work</td>\n",
       "      <td>yes</td>\n",
       "      <td>stubborn</td>\n",
       "      <td>Management</td>\n",
       "      <td>work</td>\n",
       "      <td>hard worker</td>\n",
       "      <td>no</td>\n",
       "      <td>no</td>\n",
       "      <td>Information Security Analyst</td>\n",
       "    </tr>\n",
       "    <tr>\n",
       "      <th>20</th>\n",
       "      <td>67</td>\n",
       "      <td>61</td>\n",
       "      <td>66</td>\n",
       "      <td>62</td>\n",
       "      <td>93</td>\n",
       "      <td>91</td>\n",
       "      <td>88</td>\n",
       "      <td>88</td>\n",
       "      <td>70</td>\n",
       "      <td>4</td>\n",
       "      <td>...</td>\n",
       "      <td>Journals</td>\n",
       "      <td>Work</td>\n",
       "      <td>yes</td>\n",
       "      <td>stubborn</td>\n",
       "      <td>Technical</td>\n",
       "      <td>work</td>\n",
       "      <td>hard worker</td>\n",
       "      <td>yes</td>\n",
       "      <td>no</td>\n",
       "      <td>Database Developer</td>\n",
       "    </tr>\n",
       "    <tr>\n",
       "      <th>21</th>\n",
       "      <td>65</td>\n",
       "      <td>61</td>\n",
       "      <td>73</td>\n",
       "      <td>90</td>\n",
       "      <td>89</td>\n",
       "      <td>74</td>\n",
       "      <td>82</td>\n",
       "      <td>60</td>\n",
       "      <td>84</td>\n",
       "      <td>5</td>\n",
       "      <td>...</td>\n",
       "      <td>History</td>\n",
       "      <td>Work</td>\n",
       "      <td>no</td>\n",
       "      <td>stubborn</td>\n",
       "      <td>Management</td>\n",
       "      <td>salary</td>\n",
       "      <td>hard worker</td>\n",
       "      <td>yes</td>\n",
       "      <td>yes</td>\n",
       "      <td>Business Systems Analyst</td>\n",
       "    </tr>\n",
       "    <tr>\n",
       "      <th>22</th>\n",
       "      <td>84</td>\n",
       "      <td>62</td>\n",
       "      <td>70</td>\n",
       "      <td>70</td>\n",
       "      <td>67</td>\n",
       "      <td>65</td>\n",
       "      <td>78</td>\n",
       "      <td>61</td>\n",
       "      <td>65</td>\n",
       "      <td>4</td>\n",
       "      <td>...</td>\n",
       "      <td>Art</td>\n",
       "      <td>salary</td>\n",
       "      <td>yes</td>\n",
       "      <td>gentle</td>\n",
       "      <td>Management</td>\n",
       "      <td>work</td>\n",
       "      <td>hard worker</td>\n",
       "      <td>no</td>\n",
       "      <td>yes</td>\n",
       "      <td>Quality Assurance Associate</td>\n",
       "    </tr>\n",
       "    <tr>\n",
       "      <th>23</th>\n",
       "      <td>74</td>\n",
       "      <td>89</td>\n",
       "      <td>66</td>\n",
       "      <td>75</td>\n",
       "      <td>86</td>\n",
       "      <td>61</td>\n",
       "      <td>63</td>\n",
       "      <td>80</td>\n",
       "      <td>69</td>\n",
       "      <td>9</td>\n",
       "      <td>...</td>\n",
       "      <td>Childrens</td>\n",
       "      <td>Work</td>\n",
       "      <td>yes</td>\n",
       "      <td>gentle</td>\n",
       "      <td>Management</td>\n",
       "      <td>work</td>\n",
       "      <td>smart worker</td>\n",
       "      <td>no</td>\n",
       "      <td>no</td>\n",
       "      <td>Technical Support</td>\n",
       "    </tr>\n",
       "    <tr>\n",
       "      <th>24</th>\n",
       "      <td>92</td>\n",
       "      <td>67</td>\n",
       "      <td>76</td>\n",
       "      <td>92</td>\n",
       "      <td>69</td>\n",
       "      <td>90</td>\n",
       "      <td>80</td>\n",
       "      <td>77</td>\n",
       "      <td>66</td>\n",
       "      <td>4</td>\n",
       "      <td>...</td>\n",
       "      <td>Childrens</td>\n",
       "      <td>salary</td>\n",
       "      <td>yes</td>\n",
       "      <td>stubborn</td>\n",
       "      <td>Technical</td>\n",
       "      <td>work</td>\n",
       "      <td>smart worker</td>\n",
       "      <td>no</td>\n",
       "      <td>yes</td>\n",
       "      <td>Technical Support</td>\n",
       "    </tr>\n",
       "    <tr>\n",
       "      <th>25</th>\n",
       "      <td>75</td>\n",
       "      <td>74</td>\n",
       "      <td>85</td>\n",
       "      <td>93</td>\n",
       "      <td>92</td>\n",
       "      <td>80</td>\n",
       "      <td>87</td>\n",
       "      <td>78</td>\n",
       "      <td>91</td>\n",
       "      <td>12</td>\n",
       "      <td>...</td>\n",
       "      <td>History</td>\n",
       "      <td>Work</td>\n",
       "      <td>yes</td>\n",
       "      <td>stubborn</td>\n",
       "      <td>Technical</td>\n",
       "      <td>salary</td>\n",
       "      <td>hard worker</td>\n",
       "      <td>no</td>\n",
       "      <td>yes</td>\n",
       "      <td>Information Security Analyst</td>\n",
       "    </tr>\n",
       "    <tr>\n",
       "      <th>26</th>\n",
       "      <td>90</td>\n",
       "      <td>82</td>\n",
       "      <td>75</td>\n",
       "      <td>72</td>\n",
       "      <td>84</td>\n",
       "      <td>79</td>\n",
       "      <td>83</td>\n",
       "      <td>68</td>\n",
       "      <td>67</td>\n",
       "      <td>4</td>\n",
       "      <td>...</td>\n",
       "      <td>Self help</td>\n",
       "      <td>Work</td>\n",
       "      <td>no</td>\n",
       "      <td>stubborn</td>\n",
       "      <td>Management</td>\n",
       "      <td>salary</td>\n",
       "      <td>hard worker</td>\n",
       "      <td>yes</td>\n",
       "      <td>no</td>\n",
       "      <td>Business Intelligence Analyst</td>\n",
       "    </tr>\n",
       "    <tr>\n",
       "      <th>27</th>\n",
       "      <td>71</td>\n",
       "      <td>60</td>\n",
       "      <td>93</td>\n",
       "      <td>79</td>\n",
       "      <td>78</td>\n",
       "      <td>93</td>\n",
       "      <td>90</td>\n",
       "      <td>76</td>\n",
       "      <td>75</td>\n",
       "      <td>12</td>\n",
       "      <td>...</td>\n",
       "      <td>Dictionaries</td>\n",
       "      <td>salary</td>\n",
       "      <td>yes</td>\n",
       "      <td>stubborn</td>\n",
       "      <td>Technical</td>\n",
       "      <td>work</td>\n",
       "      <td>smart worker</td>\n",
       "      <td>no</td>\n",
       "      <td>no</td>\n",
       "      <td>Project Manager</td>\n",
       "    </tr>\n",
       "    <tr>\n",
       "      <th>28</th>\n",
       "      <td>83</td>\n",
       "      <td>82</td>\n",
       "      <td>64</td>\n",
       "      <td>70</td>\n",
       "      <td>93</td>\n",
       "      <td>73</td>\n",
       "      <td>87</td>\n",
       "      <td>83</td>\n",
       "      <td>87</td>\n",
       "      <td>11</td>\n",
       "      <td>...</td>\n",
       "      <td>Art</td>\n",
       "      <td>Work</td>\n",
       "      <td>yes</td>\n",
       "      <td>gentle</td>\n",
       "      <td>Management</td>\n",
       "      <td>work</td>\n",
       "      <td>hard worker</td>\n",
       "      <td>no</td>\n",
       "      <td>no</td>\n",
       "      <td>Information Technology Manager</td>\n",
       "    </tr>\n",
       "    <tr>\n",
       "      <th>29</th>\n",
       "      <td>83</td>\n",
       "      <td>68</td>\n",
       "      <td>70</td>\n",
       "      <td>90</td>\n",
       "      <td>85</td>\n",
       "      <td>75</td>\n",
       "      <td>90</td>\n",
       "      <td>92</td>\n",
       "      <td>85</td>\n",
       "      <td>4</td>\n",
       "      <td>...</td>\n",
       "      <td>Journals</td>\n",
       "      <td>salary</td>\n",
       "      <td>yes</td>\n",
       "      <td>gentle</td>\n",
       "      <td>Management</td>\n",
       "      <td>work</td>\n",
       "      <td>smart worker</td>\n",
       "      <td>yes</td>\n",
       "      <td>yes</td>\n",
       "      <td>Web Developer</td>\n",
       "    </tr>\n",
       "    <tr>\n",
       "      <th>...</th>\n",
       "      <td>...</td>\n",
       "      <td>...</td>\n",
       "      <td>...</td>\n",
       "      <td>...</td>\n",
       "      <td>...</td>\n",
       "      <td>...</td>\n",
       "      <td>...</td>\n",
       "      <td>...</td>\n",
       "      <td>...</td>\n",
       "      <td>...</td>\n",
       "      <td>...</td>\n",
       "      <td>...</td>\n",
       "      <td>...</td>\n",
       "      <td>...</td>\n",
       "      <td>...</td>\n",
       "      <td>...</td>\n",
       "      <td>...</td>\n",
       "      <td>...</td>\n",
       "      <td>...</td>\n",
       "      <td>...</td>\n",
       "      <td>...</td>\n",
       "    </tr>\n",
       "    <tr>\n",
       "      <th>19970</th>\n",
       "      <td>65</td>\n",
       "      <td>84</td>\n",
       "      <td>86</td>\n",
       "      <td>83</td>\n",
       "      <td>62</td>\n",
       "      <td>67</td>\n",
       "      <td>65</td>\n",
       "      <td>71</td>\n",
       "      <td>92</td>\n",
       "      <td>4</td>\n",
       "      <td>...</td>\n",
       "      <td>Art</td>\n",
       "      <td>salary</td>\n",
       "      <td>yes</td>\n",
       "      <td>gentle</td>\n",
       "      <td>Technical</td>\n",
       "      <td>work</td>\n",
       "      <td>smart worker</td>\n",
       "      <td>yes</td>\n",
       "      <td>yes</td>\n",
       "      <td>Business Intelligence Analyst</td>\n",
       "    </tr>\n",
       "    <tr>\n",
       "      <th>19971</th>\n",
       "      <td>88</td>\n",
       "      <td>92</td>\n",
       "      <td>85</td>\n",
       "      <td>92</td>\n",
       "      <td>65</td>\n",
       "      <td>88</td>\n",
       "      <td>76</td>\n",
       "      <td>87</td>\n",
       "      <td>65</td>\n",
       "      <td>4</td>\n",
       "      <td>...</td>\n",
       "      <td>Anthology</td>\n",
       "      <td>salary</td>\n",
       "      <td>yes</td>\n",
       "      <td>gentle</td>\n",
       "      <td>Technical</td>\n",
       "      <td>work</td>\n",
       "      <td>smart worker</td>\n",
       "      <td>yes</td>\n",
       "      <td>yes</td>\n",
       "      <td>Mobile Applications Developer</td>\n",
       "    </tr>\n",
       "    <tr>\n",
       "      <th>19972</th>\n",
       "      <td>64</td>\n",
       "      <td>74</td>\n",
       "      <td>72</td>\n",
       "      <td>66</td>\n",
       "      <td>63</td>\n",
       "      <td>93</td>\n",
       "      <td>81</td>\n",
       "      <td>69</td>\n",
       "      <td>72</td>\n",
       "      <td>4</td>\n",
       "      <td>...</td>\n",
       "      <td>Romance</td>\n",
       "      <td>Work</td>\n",
       "      <td>yes</td>\n",
       "      <td>gentle</td>\n",
       "      <td>Technical</td>\n",
       "      <td>salary</td>\n",
       "      <td>smart worker</td>\n",
       "      <td>yes</td>\n",
       "      <td>yes</td>\n",
       "      <td>Programmer Analyst</td>\n",
       "    </tr>\n",
       "    <tr>\n",
       "      <th>19973</th>\n",
       "      <td>64</td>\n",
       "      <td>66</td>\n",
       "      <td>72</td>\n",
       "      <td>74</td>\n",
       "      <td>89</td>\n",
       "      <td>82</td>\n",
       "      <td>80</td>\n",
       "      <td>70</td>\n",
       "      <td>84</td>\n",
       "      <td>5</td>\n",
       "      <td>...</td>\n",
       "      <td>Biographies</td>\n",
       "      <td>salary</td>\n",
       "      <td>no</td>\n",
       "      <td>stubborn</td>\n",
       "      <td>Management</td>\n",
       "      <td>salary</td>\n",
       "      <td>hard worker</td>\n",
       "      <td>no</td>\n",
       "      <td>no</td>\n",
       "      <td>Information Technology Manager</td>\n",
       "    </tr>\n",
       "    <tr>\n",
       "      <th>19974</th>\n",
       "      <td>68</td>\n",
       "      <td>61</td>\n",
       "      <td>86</td>\n",
       "      <td>89</td>\n",
       "      <td>82</td>\n",
       "      <td>63</td>\n",
       "      <td>67</td>\n",
       "      <td>94</td>\n",
       "      <td>65</td>\n",
       "      <td>12</td>\n",
       "      <td>...</td>\n",
       "      <td>Travel</td>\n",
       "      <td>Work</td>\n",
       "      <td>yes</td>\n",
       "      <td>stubborn</td>\n",
       "      <td>Technical</td>\n",
       "      <td>salary</td>\n",
       "      <td>smart worker</td>\n",
       "      <td>yes</td>\n",
       "      <td>yes</td>\n",
       "      <td>E-Commerce Analyst</td>\n",
       "    </tr>\n",
       "    <tr>\n",
       "      <th>19975</th>\n",
       "      <td>84</td>\n",
       "      <td>68</td>\n",
       "      <td>81</td>\n",
       "      <td>91</td>\n",
       "      <td>70</td>\n",
       "      <td>60</td>\n",
       "      <td>65</td>\n",
       "      <td>69</td>\n",
       "      <td>88</td>\n",
       "      <td>9</td>\n",
       "      <td>...</td>\n",
       "      <td>Religion-Spirituality</td>\n",
       "      <td>Work</td>\n",
       "      <td>no</td>\n",
       "      <td>gentle</td>\n",
       "      <td>Technical</td>\n",
       "      <td>salary</td>\n",
       "      <td>smart worker</td>\n",
       "      <td>yes</td>\n",
       "      <td>yes</td>\n",
       "      <td>Software Developer</td>\n",
       "    </tr>\n",
       "    <tr>\n",
       "      <th>19976</th>\n",
       "      <td>67</td>\n",
       "      <td>69</td>\n",
       "      <td>72</td>\n",
       "      <td>88</td>\n",
       "      <td>83</td>\n",
       "      <td>86</td>\n",
       "      <td>86</td>\n",
       "      <td>89</td>\n",
       "      <td>79</td>\n",
       "      <td>5</td>\n",
       "      <td>...</td>\n",
       "      <td>Satire</td>\n",
       "      <td>salary</td>\n",
       "      <td>yes</td>\n",
       "      <td>stubborn</td>\n",
       "      <td>Technical</td>\n",
       "      <td>salary</td>\n",
       "      <td>smart worker</td>\n",
       "      <td>yes</td>\n",
       "      <td>yes</td>\n",
       "      <td>Project Manager</td>\n",
       "    </tr>\n",
       "    <tr>\n",
       "      <th>19977</th>\n",
       "      <td>88</td>\n",
       "      <td>71</td>\n",
       "      <td>79</td>\n",
       "      <td>64</td>\n",
       "      <td>92</td>\n",
       "      <td>84</td>\n",
       "      <td>66</td>\n",
       "      <td>70</td>\n",
       "      <td>67</td>\n",
       "      <td>7</td>\n",
       "      <td>...</td>\n",
       "      <td>Prayer books</td>\n",
       "      <td>salary</td>\n",
       "      <td>yes</td>\n",
       "      <td>gentle</td>\n",
       "      <td>Technical</td>\n",
       "      <td>work</td>\n",
       "      <td>hard worker</td>\n",
       "      <td>yes</td>\n",
       "      <td>yes</td>\n",
       "      <td>Portal Administrator</td>\n",
       "    </tr>\n",
       "    <tr>\n",
       "      <th>19978</th>\n",
       "      <td>71</td>\n",
       "      <td>73</td>\n",
       "      <td>78</td>\n",
       "      <td>81</td>\n",
       "      <td>64</td>\n",
       "      <td>76</td>\n",
       "      <td>83</td>\n",
       "      <td>73</td>\n",
       "      <td>84</td>\n",
       "      <td>5</td>\n",
       "      <td>...</td>\n",
       "      <td>Biographies</td>\n",
       "      <td>salary</td>\n",
       "      <td>yes</td>\n",
       "      <td>stubborn</td>\n",
       "      <td>Management</td>\n",
       "      <td>salary</td>\n",
       "      <td>smart worker</td>\n",
       "      <td>no</td>\n",
       "      <td>no</td>\n",
       "      <td>Software Engineer</td>\n",
       "    </tr>\n",
       "    <tr>\n",
       "      <th>19979</th>\n",
       "      <td>60</td>\n",
       "      <td>77</td>\n",
       "      <td>87</td>\n",
       "      <td>81</td>\n",
       "      <td>80</td>\n",
       "      <td>75</td>\n",
       "      <td>89</td>\n",
       "      <td>90</td>\n",
       "      <td>92</td>\n",
       "      <td>5</td>\n",
       "      <td>...</td>\n",
       "      <td>Romance</td>\n",
       "      <td>Work</td>\n",
       "      <td>yes</td>\n",
       "      <td>stubborn</td>\n",
       "      <td>Technical</td>\n",
       "      <td>salary</td>\n",
       "      <td>hard worker</td>\n",
       "      <td>yes</td>\n",
       "      <td>yes</td>\n",
       "      <td>Business Systems Analyst</td>\n",
       "    </tr>\n",
       "    <tr>\n",
       "      <th>19980</th>\n",
       "      <td>78</td>\n",
       "      <td>64</td>\n",
       "      <td>73</td>\n",
       "      <td>74</td>\n",
       "      <td>74</td>\n",
       "      <td>77</td>\n",
       "      <td>88</td>\n",
       "      <td>89</td>\n",
       "      <td>84</td>\n",
       "      <td>8</td>\n",
       "      <td>...</td>\n",
       "      <td>Childrens</td>\n",
       "      <td>salary</td>\n",
       "      <td>yes</td>\n",
       "      <td>stubborn</td>\n",
       "      <td>Technical</td>\n",
       "      <td>work</td>\n",
       "      <td>smart worker</td>\n",
       "      <td>no</td>\n",
       "      <td>yes</td>\n",
       "      <td>Software Engineer</td>\n",
       "    </tr>\n",
       "    <tr>\n",
       "      <th>19981</th>\n",
       "      <td>80</td>\n",
       "      <td>89</td>\n",
       "      <td>66</td>\n",
       "      <td>77</td>\n",
       "      <td>78</td>\n",
       "      <td>82</td>\n",
       "      <td>88</td>\n",
       "      <td>74</td>\n",
       "      <td>75</td>\n",
       "      <td>4</td>\n",
       "      <td>...</td>\n",
       "      <td>Dictionaries</td>\n",
       "      <td>Work</td>\n",
       "      <td>yes</td>\n",
       "      <td>gentle</td>\n",
       "      <td>Technical</td>\n",
       "      <td>work</td>\n",
       "      <td>smart worker</td>\n",
       "      <td>no</td>\n",
       "      <td>no</td>\n",
       "      <td>Applications Developer</td>\n",
       "    </tr>\n",
       "    <tr>\n",
       "      <th>19982</th>\n",
       "      <td>64</td>\n",
       "      <td>94</td>\n",
       "      <td>81</td>\n",
       "      <td>88</td>\n",
       "      <td>68</td>\n",
       "      <td>67</td>\n",
       "      <td>85</td>\n",
       "      <td>93</td>\n",
       "      <td>80</td>\n",
       "      <td>5</td>\n",
       "      <td>...</td>\n",
       "      <td>Health</td>\n",
       "      <td>salary</td>\n",
       "      <td>no</td>\n",
       "      <td>gentle</td>\n",
       "      <td>Management</td>\n",
       "      <td>salary</td>\n",
       "      <td>smart worker</td>\n",
       "      <td>no</td>\n",
       "      <td>yes</td>\n",
       "      <td>Information Security Analyst</td>\n",
       "    </tr>\n",
       "    <tr>\n",
       "      <th>19983</th>\n",
       "      <td>80</td>\n",
       "      <td>92</td>\n",
       "      <td>91</td>\n",
       "      <td>83</td>\n",
       "      <td>70</td>\n",
       "      <td>60</td>\n",
       "      <td>83</td>\n",
       "      <td>91</td>\n",
       "      <td>94</td>\n",
       "      <td>10</td>\n",
       "      <td>...</td>\n",
       "      <td>Prayer books</td>\n",
       "      <td>salary</td>\n",
       "      <td>yes</td>\n",
       "      <td>stubborn</td>\n",
       "      <td>Technical</td>\n",
       "      <td>salary</td>\n",
       "      <td>hard worker</td>\n",
       "      <td>no</td>\n",
       "      <td>yes</td>\n",
       "      <td>Database Manager</td>\n",
       "    </tr>\n",
       "    <tr>\n",
       "      <th>19984</th>\n",
       "      <td>72</td>\n",
       "      <td>69</td>\n",
       "      <td>74</td>\n",
       "      <td>63</td>\n",
       "      <td>67</td>\n",
       "      <td>82</td>\n",
       "      <td>82</td>\n",
       "      <td>62</td>\n",
       "      <td>88</td>\n",
       "      <td>12</td>\n",
       "      <td>...</td>\n",
       "      <td>Art</td>\n",
       "      <td>salary</td>\n",
       "      <td>yes</td>\n",
       "      <td>gentle</td>\n",
       "      <td>Management</td>\n",
       "      <td>salary</td>\n",
       "      <td>smart worker</td>\n",
       "      <td>yes</td>\n",
       "      <td>yes</td>\n",
       "      <td>Technical Engineer</td>\n",
       "    </tr>\n",
       "    <tr>\n",
       "      <th>19985</th>\n",
       "      <td>65</td>\n",
       "      <td>77</td>\n",
       "      <td>61</td>\n",
       "      <td>77</td>\n",
       "      <td>70</td>\n",
       "      <td>88</td>\n",
       "      <td>86</td>\n",
       "      <td>65</td>\n",
       "      <td>84</td>\n",
       "      <td>4</td>\n",
       "      <td>...</td>\n",
       "      <td>Comics</td>\n",
       "      <td>Work</td>\n",
       "      <td>no</td>\n",
       "      <td>stubborn</td>\n",
       "      <td>Technical</td>\n",
       "      <td>work</td>\n",
       "      <td>smart worker</td>\n",
       "      <td>no</td>\n",
       "      <td>yes</td>\n",
       "      <td>Solutions Architect</td>\n",
       "    </tr>\n",
       "    <tr>\n",
       "      <th>19986</th>\n",
       "      <td>74</td>\n",
       "      <td>72</td>\n",
       "      <td>65</td>\n",
       "      <td>71</td>\n",
       "      <td>72</td>\n",
       "      <td>68</td>\n",
       "      <td>90</td>\n",
       "      <td>89</td>\n",
       "      <td>63</td>\n",
       "      <td>6</td>\n",
       "      <td>...</td>\n",
       "      <td>Fantasy</td>\n",
       "      <td>salary</td>\n",
       "      <td>yes</td>\n",
       "      <td>gentle</td>\n",
       "      <td>Technical</td>\n",
       "      <td>work</td>\n",
       "      <td>hard worker</td>\n",
       "      <td>no</td>\n",
       "      <td>no</td>\n",
       "      <td>Information Technology Manager</td>\n",
       "    </tr>\n",
       "    <tr>\n",
       "      <th>19987</th>\n",
       "      <td>82</td>\n",
       "      <td>62</td>\n",
       "      <td>63</td>\n",
       "      <td>63</td>\n",
       "      <td>65</td>\n",
       "      <td>63</td>\n",
       "      <td>88</td>\n",
       "      <td>74</td>\n",
       "      <td>81</td>\n",
       "      <td>11</td>\n",
       "      <td>...</td>\n",
       "      <td>Poetry</td>\n",
       "      <td>salary</td>\n",
       "      <td>no</td>\n",
       "      <td>gentle</td>\n",
       "      <td>Technical</td>\n",
       "      <td>salary</td>\n",
       "      <td>smart worker</td>\n",
       "      <td>no</td>\n",
       "      <td>no</td>\n",
       "      <td>Business Intelligence Analyst</td>\n",
       "    </tr>\n",
       "    <tr>\n",
       "      <th>19988</th>\n",
       "      <td>64</td>\n",
       "      <td>85</td>\n",
       "      <td>84</td>\n",
       "      <td>73</td>\n",
       "      <td>88</td>\n",
       "      <td>66</td>\n",
       "      <td>81</td>\n",
       "      <td>85</td>\n",
       "      <td>92</td>\n",
       "      <td>10</td>\n",
       "      <td>...</td>\n",
       "      <td>Drama</td>\n",
       "      <td>salary</td>\n",
       "      <td>yes</td>\n",
       "      <td>gentle</td>\n",
       "      <td>Technical</td>\n",
       "      <td>salary</td>\n",
       "      <td>smart worker</td>\n",
       "      <td>no</td>\n",
       "      <td>yes</td>\n",
       "      <td>Web Developer</td>\n",
       "    </tr>\n",
       "    <tr>\n",
       "      <th>19989</th>\n",
       "      <td>73</td>\n",
       "      <td>60</td>\n",
       "      <td>60</td>\n",
       "      <td>83</td>\n",
       "      <td>62</td>\n",
       "      <td>83</td>\n",
       "      <td>87</td>\n",
       "      <td>81</td>\n",
       "      <td>81</td>\n",
       "      <td>4</td>\n",
       "      <td>...</td>\n",
       "      <td>Biographies</td>\n",
       "      <td>Work</td>\n",
       "      <td>yes</td>\n",
       "      <td>stubborn</td>\n",
       "      <td>Management</td>\n",
       "      <td>salary</td>\n",
       "      <td>smart worker</td>\n",
       "      <td>no</td>\n",
       "      <td>no</td>\n",
       "      <td>Programmer Analyst</td>\n",
       "    </tr>\n",
       "    <tr>\n",
       "      <th>19990</th>\n",
       "      <td>71</td>\n",
       "      <td>83</td>\n",
       "      <td>82</td>\n",
       "      <td>94</td>\n",
       "      <td>91</td>\n",
       "      <td>67</td>\n",
       "      <td>86</td>\n",
       "      <td>76</td>\n",
       "      <td>62</td>\n",
       "      <td>6</td>\n",
       "      <td>...</td>\n",
       "      <td>Drama</td>\n",
       "      <td>salary</td>\n",
       "      <td>yes</td>\n",
       "      <td>stubborn</td>\n",
       "      <td>Management</td>\n",
       "      <td>work</td>\n",
       "      <td>smart worker</td>\n",
       "      <td>yes</td>\n",
       "      <td>no</td>\n",
       "      <td>Web Developer</td>\n",
       "    </tr>\n",
       "    <tr>\n",
       "      <th>19991</th>\n",
       "      <td>77</td>\n",
       "      <td>91</td>\n",
       "      <td>74</td>\n",
       "      <td>62</td>\n",
       "      <td>66</td>\n",
       "      <td>81</td>\n",
       "      <td>93</td>\n",
       "      <td>61</td>\n",
       "      <td>81</td>\n",
       "      <td>9</td>\n",
       "      <td>...</td>\n",
       "      <td>Trilogy</td>\n",
       "      <td>Work</td>\n",
       "      <td>no</td>\n",
       "      <td>gentle</td>\n",
       "      <td>Management</td>\n",
       "      <td>work</td>\n",
       "      <td>hard worker</td>\n",
       "      <td>no</td>\n",
       "      <td>yes</td>\n",
       "      <td>Information Technology Manager</td>\n",
       "    </tr>\n",
       "    <tr>\n",
       "      <th>19992</th>\n",
       "      <td>79</td>\n",
       "      <td>62</td>\n",
       "      <td>86</td>\n",
       "      <td>87</td>\n",
       "      <td>93</td>\n",
       "      <td>81</td>\n",
       "      <td>64</td>\n",
       "      <td>68</td>\n",
       "      <td>70</td>\n",
       "      <td>10</td>\n",
       "      <td>...</td>\n",
       "      <td>Cookbooks</td>\n",
       "      <td>salary</td>\n",
       "      <td>yes</td>\n",
       "      <td>stubborn</td>\n",
       "      <td>Management</td>\n",
       "      <td>salary</td>\n",
       "      <td>hard worker</td>\n",
       "      <td>yes</td>\n",
       "      <td>yes</td>\n",
       "      <td>Technical Support</td>\n",
       "    </tr>\n",
       "    <tr>\n",
       "      <th>19993</th>\n",
       "      <td>67</td>\n",
       "      <td>74</td>\n",
       "      <td>65</td>\n",
       "      <td>62</td>\n",
       "      <td>81</td>\n",
       "      <td>77</td>\n",
       "      <td>81</td>\n",
       "      <td>76</td>\n",
       "      <td>89</td>\n",
       "      <td>5</td>\n",
       "      <td>...</td>\n",
       "      <td>Satire</td>\n",
       "      <td>salary</td>\n",
       "      <td>yes</td>\n",
       "      <td>stubborn</td>\n",
       "      <td>Technical</td>\n",
       "      <td>salary</td>\n",
       "      <td>smart worker</td>\n",
       "      <td>no</td>\n",
       "      <td>yes</td>\n",
       "      <td>Software Systems Engineer</td>\n",
       "    </tr>\n",
       "    <tr>\n",
       "      <th>19994</th>\n",
       "      <td>89</td>\n",
       "      <td>87</td>\n",
       "      <td>76</td>\n",
       "      <td>62</td>\n",
       "      <td>82</td>\n",
       "      <td>75</td>\n",
       "      <td>69</td>\n",
       "      <td>63</td>\n",
       "      <td>88</td>\n",
       "      <td>6</td>\n",
       "      <td>...</td>\n",
       "      <td>Cookbooks</td>\n",
       "      <td>salary</td>\n",
       "      <td>yes</td>\n",
       "      <td>stubborn</td>\n",
       "      <td>Technical</td>\n",
       "      <td>work</td>\n",
       "      <td>hard worker</td>\n",
       "      <td>no</td>\n",
       "      <td>no</td>\n",
       "      <td>Software Engineer</td>\n",
       "    </tr>\n",
       "    <tr>\n",
       "      <th>19995</th>\n",
       "      <td>83</td>\n",
       "      <td>67</td>\n",
       "      <td>62</td>\n",
       "      <td>63</td>\n",
       "      <td>81</td>\n",
       "      <td>74</td>\n",
       "      <td>90</td>\n",
       "      <td>84</td>\n",
       "      <td>69</td>\n",
       "      <td>4</td>\n",
       "      <td>...</td>\n",
       "      <td>Journals</td>\n",
       "      <td>Work</td>\n",
       "      <td>yes</td>\n",
       "      <td>stubborn</td>\n",
       "      <td>Management</td>\n",
       "      <td>salary</td>\n",
       "      <td>smart worker</td>\n",
       "      <td>yes</td>\n",
       "      <td>no</td>\n",
       "      <td>Technical Engineer</td>\n",
       "    </tr>\n",
       "    <tr>\n",
       "      <th>19996</th>\n",
       "      <td>80</td>\n",
       "      <td>69</td>\n",
       "      <td>83</td>\n",
       "      <td>87</td>\n",
       "      <td>82</td>\n",
       "      <td>66</td>\n",
       "      <td>66</td>\n",
       "      <td>92</td>\n",
       "      <td>67</td>\n",
       "      <td>7</td>\n",
       "      <td>...</td>\n",
       "      <td>Cookbooks</td>\n",
       "      <td>salary</td>\n",
       "      <td>no</td>\n",
       "      <td>stubborn</td>\n",
       "      <td>Management</td>\n",
       "      <td>salary</td>\n",
       "      <td>hard worker</td>\n",
       "      <td>no</td>\n",
       "      <td>yes</td>\n",
       "      <td>E-Commerce Analyst</td>\n",
       "    </tr>\n",
       "    <tr>\n",
       "      <th>19997</th>\n",
       "      <td>83</td>\n",
       "      <td>70</td>\n",
       "      <td>80</td>\n",
       "      <td>87</td>\n",
       "      <td>64</td>\n",
       "      <td>85</td>\n",
       "      <td>69</td>\n",
       "      <td>94</td>\n",
       "      <td>88</td>\n",
       "      <td>7</td>\n",
       "      <td>...</td>\n",
       "      <td>Drama</td>\n",
       "      <td>Work</td>\n",
       "      <td>yes</td>\n",
       "      <td>gentle</td>\n",
       "      <td>Technical</td>\n",
       "      <td>work</td>\n",
       "      <td>hard worker</td>\n",
       "      <td>no</td>\n",
       "      <td>yes</td>\n",
       "      <td>Business Intelligence Analyst</td>\n",
       "    </tr>\n",
       "    <tr>\n",
       "      <th>19998</th>\n",
       "      <td>68</td>\n",
       "      <td>87</td>\n",
       "      <td>91</td>\n",
       "      <td>88</td>\n",
       "      <td>66</td>\n",
       "      <td>74</td>\n",
       "      <td>61</td>\n",
       "      <td>87</td>\n",
       "      <td>61</td>\n",
       "      <td>5</td>\n",
       "      <td>...</td>\n",
       "      <td>Travel</td>\n",
       "      <td>Work</td>\n",
       "      <td>no</td>\n",
       "      <td>gentle</td>\n",
       "      <td>Management</td>\n",
       "      <td>work</td>\n",
       "      <td>smart worker</td>\n",
       "      <td>yes</td>\n",
       "      <td>no</td>\n",
       "      <td>Software Quality Assurance (QA)  Testing</td>\n",
       "    </tr>\n",
       "    <tr>\n",
       "      <th>19999</th>\n",
       "      <td>73</td>\n",
       "      <td>77</td>\n",
       "      <td>74</td>\n",
       "      <td>84</td>\n",
       "      <td>70</td>\n",
       "      <td>65</td>\n",
       "      <td>92</td>\n",
       "      <td>73</td>\n",
       "      <td>90</td>\n",
       "      <td>7</td>\n",
       "      <td>...</td>\n",
       "      <td>Comics</td>\n",
       "      <td>Work</td>\n",
       "      <td>no</td>\n",
       "      <td>gentle</td>\n",
       "      <td>Management</td>\n",
       "      <td>work</td>\n",
       "      <td>hard worker</td>\n",
       "      <td>yes</td>\n",
       "      <td>no</td>\n",
       "      <td>Applications Developer</td>\n",
       "    </tr>\n",
       "  </tbody>\n",
       "</table>\n",
       "<p>20000 rows × 39 columns</p>\n",
       "</div>"
      ],
      "text/plain": [
       "       Acedamic percentage in Operating Systems  percentage in Algorithms  \\\n",
       "0                                            69                        63   \n",
       "1                                            78                        62   \n",
       "2                                            71                        86   \n",
       "3                                            76                        87   \n",
       "4                                            92                        62   \n",
       "5                                            88                        86   \n",
       "6                                            93                        77   \n",
       "7                                            84                        72   \n",
       "8                                            73                        66   \n",
       "9                                            62                        76   \n",
       "10                                           73                        80   \n",
       "11                                           63                        76   \n",
       "12                                           63                        64   \n",
       "13                                           68                        93   \n",
       "14                                           90                        83   \n",
       "15                                           94                        71   \n",
       "16                                           60                        92   \n",
       "17                                           92                        86   \n",
       "18                                           82                        91   \n",
       "19                                           90                        73   \n",
       "20                                           67                        61   \n",
       "21                                           65                        61   \n",
       "22                                           84                        62   \n",
       "23                                           74                        89   \n",
       "24                                           92                        67   \n",
       "25                                           75                        74   \n",
       "26                                           90                        82   \n",
       "27                                           71                        60   \n",
       "28                                           83                        82   \n",
       "29                                           83                        68   \n",
       "...                                         ...                       ...   \n",
       "19970                                        65                        84   \n",
       "19971                                        88                        92   \n",
       "19972                                        64                        74   \n",
       "19973                                        64                        66   \n",
       "19974                                        68                        61   \n",
       "19975                                        84                        68   \n",
       "19976                                        67                        69   \n",
       "19977                                        88                        71   \n",
       "19978                                        71                        73   \n",
       "19979                                        60                        77   \n",
       "19980                                        78                        64   \n",
       "19981                                        80                        89   \n",
       "19982                                        64                        94   \n",
       "19983                                        80                        92   \n",
       "19984                                        72                        69   \n",
       "19985                                        65                        77   \n",
       "19986                                        74                        72   \n",
       "19987                                        82                        62   \n",
       "19988                                        64                        85   \n",
       "19989                                        73                        60   \n",
       "19990                                        71                        83   \n",
       "19991                                        77                        91   \n",
       "19992                                        79                        62   \n",
       "19993                                        67                        74   \n",
       "19994                                        89                        87   \n",
       "19995                                        83                        67   \n",
       "19996                                        80                        69   \n",
       "19997                                        83                        70   \n",
       "19998                                        68                        87   \n",
       "19999                                        73                        77   \n",
       "\n",
       "       Percentage in Programming Concepts  Percentage in Software Engineering  \\\n",
       "0                                      78                                  87   \n",
       "1                                      73                                  60   \n",
       "2                                      91                                  87   \n",
       "3                                      60                                  84   \n",
       "4                                      90                                  67   \n",
       "5                                      62                                  79   \n",
       "6                                      69                                  79   \n",
       "7                                      88                                  62   \n",
       "8                                      66                                  81   \n",
       "9                                      85                                  91   \n",
       "10                                     70                                  83   \n",
       "11                                     81                                  90   \n",
       "12                                     61                                  67   \n",
       "13                                     77                                  60   \n",
       "14                                     66                                  71   \n",
       "15                                     63                                  74   \n",
       "16                                     94                                  90   \n",
       "17                                     61                                  63   \n",
       "18                                     68                                  86   \n",
       "19                                     90                                  67   \n",
       "20                                     66                                  62   \n",
       "21                                     73                                  90   \n",
       "22                                     70                                  70   \n",
       "23                                     66                                  75   \n",
       "24                                     76                                  92   \n",
       "25                                     85                                  93   \n",
       "26                                     75                                  72   \n",
       "27                                     93                                  79   \n",
       "28                                     64                                  70   \n",
       "29                                     70                                  90   \n",
       "...                                   ...                                 ...   \n",
       "19970                                  86                                  83   \n",
       "19971                                  85                                  92   \n",
       "19972                                  72                                  66   \n",
       "19973                                  72                                  74   \n",
       "19974                                  86                                  89   \n",
       "19975                                  81                                  91   \n",
       "19976                                  72                                  88   \n",
       "19977                                  79                                  64   \n",
       "19978                                  78                                  81   \n",
       "19979                                  87                                  81   \n",
       "19980                                  73                                  74   \n",
       "19981                                  66                                  77   \n",
       "19982                                  81                                  88   \n",
       "19983                                  91                                  83   \n",
       "19984                                  74                                  63   \n",
       "19985                                  61                                  77   \n",
       "19986                                  65                                  71   \n",
       "19987                                  63                                  63   \n",
       "19988                                  84                                  73   \n",
       "19989                                  60                                  83   \n",
       "19990                                  82                                  94   \n",
       "19991                                  74                                  62   \n",
       "19992                                  86                                  87   \n",
       "19993                                  65                                  62   \n",
       "19994                                  76                                  62   \n",
       "19995                                  62                                  63   \n",
       "19996                                  83                                  87   \n",
       "19997                                  80                                  87   \n",
       "19998                                  91                                  88   \n",
       "19999                                  74                                  84   \n",
       "\n",
       "       Percentage in Computer Networks  Percentage in Electronics Subjects  \\\n",
       "0                                   94                                  94   \n",
       "1                                   71                                  70   \n",
       "2                                   61                                  81   \n",
       "3                                   89                                  73   \n",
       "4                                   71                                  89   \n",
       "5                                   93                                  84   \n",
       "6                                   90                                  93   \n",
       "7                                   66                                  63   \n",
       "8                                   81                                  69   \n",
       "9                                   82                                  69   \n",
       "10                                  61                                  82   \n",
       "11                                  70                                  72   \n",
       "12                                  61                                  70   \n",
       "13                                  77                                  81   \n",
       "14                                  65                                  67   \n",
       "15                                  61                                  69   \n",
       "16                                  62                                  94   \n",
       "17                                  64                                  65   \n",
       "18                                  78                                  61   \n",
       "19                                  63                                  88   \n",
       "20                                  93                                  91   \n",
       "21                                  89                                  74   \n",
       "22                                  67                                  65   \n",
       "23                                  86                                  61   \n",
       "24                                  69                                  90   \n",
       "25                                  92                                  80   \n",
       "26                                  84                                  79   \n",
       "27                                  78                                  93   \n",
       "28                                  93                                  73   \n",
       "29                                  85                                  75   \n",
       "...                                ...                                 ...   \n",
       "19970                               62                                  67   \n",
       "19971                               65                                  88   \n",
       "19972                               63                                  93   \n",
       "19973                               89                                  82   \n",
       "19974                               82                                  63   \n",
       "19975                               70                                  60   \n",
       "19976                               83                                  86   \n",
       "19977                               92                                  84   \n",
       "19978                               64                                  76   \n",
       "19979                               80                                  75   \n",
       "19980                               74                                  77   \n",
       "19981                               78                                  82   \n",
       "19982                               68                                  67   \n",
       "19983                               70                                  60   \n",
       "19984                               67                                  82   \n",
       "19985                               70                                  88   \n",
       "19986                               72                                  68   \n",
       "19987                               65                                  63   \n",
       "19988                               88                                  66   \n",
       "19989                               62                                  83   \n",
       "19990                               91                                  67   \n",
       "19991                               66                                  81   \n",
       "19992                               93                                  81   \n",
       "19993                               81                                  77   \n",
       "19994                               82                                  75   \n",
       "19995                               81                                  74   \n",
       "19996                               82                                  66   \n",
       "19997                               64                                  85   \n",
       "19998                               66                                  74   \n",
       "19999                               70                                  65   \n",
       "\n",
       "       Percentage in Computer Architecture  Percentage in Mathematics  \\\n",
       "0                                       87                         84   \n",
       "1                                       73                         84   \n",
       "2                                       72                         72   \n",
       "3                                       62                         88   \n",
       "4                                       73                         71   \n",
       "5                                       69                         71   \n",
       "6                                       73                         63   \n",
       "7                                       78                         94   \n",
       "8                                       61                         87   \n",
       "9                                       63                         63   \n",
       "10                                      75                         94   \n",
       "11                                      86                         89   \n",
       "12                                      65                         64   \n",
       "13                                      67                         81   \n",
       "14                                      86                         63   \n",
       "15                                      65                         62   \n",
       "16                                      62                         73   \n",
       "17                                      92                         65   \n",
       "18                                      91                         82   \n",
       "19                                      67                         60   \n",
       "20                                      88                         88   \n",
       "21                                      82                         60   \n",
       "22                                      78                         61   \n",
       "23                                      63                         80   \n",
       "24                                      80                         77   \n",
       "25                                      87                         78   \n",
       "26                                      83                         68   \n",
       "27                                      90                         76   \n",
       "28                                      87                         83   \n",
       "29                                      90                         92   \n",
       "...                                    ...                        ...   \n",
       "19970                                   65                         71   \n",
       "19971                                   76                         87   \n",
       "19972                                   81                         69   \n",
       "19973                                   80                         70   \n",
       "19974                                   67                         94   \n",
       "19975                                   65                         69   \n",
       "19976                                   86                         89   \n",
       "19977                                   66                         70   \n",
       "19978                                   83                         73   \n",
       "19979                                   89                         90   \n",
       "19980                                   88                         89   \n",
       "19981                                   88                         74   \n",
       "19982                                   85                         93   \n",
       "19983                                   83                         91   \n",
       "19984                                   82                         62   \n",
       "19985                                   86                         65   \n",
       "19986                                   90                         89   \n",
       "19987                                   88                         74   \n",
       "19988                                   81                         85   \n",
       "19989                                   87                         81   \n",
       "19990                                   86                         76   \n",
       "19991                                   93                         61   \n",
       "19992                                   64                         68   \n",
       "19993                                   81                         76   \n",
       "19994                                   69                         63   \n",
       "19995                                   90                         84   \n",
       "19996                                   66                         92   \n",
       "19997                                   69                         94   \n",
       "19998                                   61                         87   \n",
       "19999                                   92                         73   \n",
       "\n",
       "       Percentage in Communication skills  Hours working per day  ...  \\\n",
       "0                                      61                      9  ...   \n",
       "1                                      91                     12  ...   \n",
       "2                                      94                     11  ...   \n",
       "3                                      69                      7  ...   \n",
       "4                                      73                      4  ...   \n",
       "5                                      82                     11  ...   \n",
       "6                                      77                      6  ...   \n",
       "7                                      60                     12  ...   \n",
       "8                                      90                     10  ...   \n",
       "9                                      81                     10  ...   \n",
       "10                                     89                      8  ...   \n",
       "11                                     85                      8  ...   \n",
       "12                                     79                      8  ...   \n",
       "13                                     91                     12  ...   \n",
       "14                                     62                      9  ...   \n",
       "15                                     68                      4  ...   \n",
       "16                                     60                     11  ...   \n",
       "17                                     60                      4  ...   \n",
       "18                                     82                     12  ...   \n",
       "19                                     69                     12  ...   \n",
       "20                                     70                      4  ...   \n",
       "21                                     84                      5  ...   \n",
       "22                                     65                      4  ...   \n",
       "23                                     69                      9  ...   \n",
       "24                                     66                      4  ...   \n",
       "25                                     91                     12  ...   \n",
       "26                                     67                      4  ...   \n",
       "27                                     75                     12  ...   \n",
       "28                                     87                     11  ...   \n",
       "29                                     85                      4  ...   \n",
       "...                                   ...                    ...  ...   \n",
       "19970                                  92                      4  ...   \n",
       "19971                                  65                      4  ...   \n",
       "19972                                  72                      4  ...   \n",
       "19973                                  84                      5  ...   \n",
       "19974                                  65                     12  ...   \n",
       "19975                                  88                      9  ...   \n",
       "19976                                  79                      5  ...   \n",
       "19977                                  67                      7  ...   \n",
       "19978                                  84                      5  ...   \n",
       "19979                                  92                      5  ...   \n",
       "19980                                  84                      8  ...   \n",
       "19981                                  75                      4  ...   \n",
       "19982                                  80                      5  ...   \n",
       "19983                                  94                     10  ...   \n",
       "19984                                  88                     12  ...   \n",
       "19985                                  84                      4  ...   \n",
       "19986                                  63                      6  ...   \n",
       "19987                                  81                     11  ...   \n",
       "19988                                  92                     10  ...   \n",
       "19989                                  81                      4  ...   \n",
       "19990                                  62                      6  ...   \n",
       "19991                                  81                      9  ...   \n",
       "19992                                  70                     10  ...   \n",
       "19993                                  89                      5  ...   \n",
       "19994                                  88                      6  ...   \n",
       "19995                                  69                      4  ...   \n",
       "19996                                  67                      7  ...   \n",
       "19997                                  88                      7  ...   \n",
       "19998                                  61                      5  ...   \n",
       "19999                                  90                      7  ...   \n",
       "\n",
       "       Interested Type of Books  Salary Range Expected  In a Realtionship  \\\n",
       "0                  Prayer books                 salary                 no   \n",
       "1                     Childrens                 salary                yes   \n",
       "2                        Travel                   Work                 no   \n",
       "3                       Romance                   Work                yes   \n",
       "4                     Cookbooks                 salary                 no   \n",
       "5                     Self help                 salary                 no   \n",
       "6                         Drama                   Work                yes   \n",
       "7                       Romance                 salary                 no   \n",
       "8                          Math                   Work                 no   \n",
       "9         Religion-Spirituality                   Work                yes   \n",
       "10                    Cookbooks                   Work                yes   \n",
       "11                    Anthology                   Work                yes   \n",
       "12                      Trilogy                 salary                yes   \n",
       "13              Autobiographies                 salary                yes   \n",
       "14                         Math                 salary                 no   \n",
       "15                    Childrens                 salary                 no   \n",
       "16                      Mystery                 salary                yes   \n",
       "17                         Math                   Work                yes   \n",
       "18                      Diaries                   Work                yes   \n",
       "19              Autobiographies                   Work                yes   \n",
       "20                     Journals                   Work                yes   \n",
       "21                      History                   Work                 no   \n",
       "22                          Art                 salary                yes   \n",
       "23                    Childrens                   Work                yes   \n",
       "24                    Childrens                 salary                yes   \n",
       "25                      History                   Work                yes   \n",
       "26                    Self help                   Work                 no   \n",
       "27                 Dictionaries                 salary                yes   \n",
       "28                          Art                   Work                yes   \n",
       "29                     Journals                 salary                yes   \n",
       "...                         ...                    ...                ...   \n",
       "19970                       Art                 salary                yes   \n",
       "19971                 Anthology                 salary                yes   \n",
       "19972                   Romance                   Work                yes   \n",
       "19973               Biographies                 salary                 no   \n",
       "19974                    Travel                   Work                yes   \n",
       "19975     Religion-Spirituality                   Work                 no   \n",
       "19976                    Satire                 salary                yes   \n",
       "19977              Prayer books                 salary                yes   \n",
       "19978               Biographies                 salary                yes   \n",
       "19979                   Romance                   Work                yes   \n",
       "19980                 Childrens                 salary                yes   \n",
       "19981              Dictionaries                   Work                yes   \n",
       "19982                    Health                 salary                 no   \n",
       "19983              Prayer books                 salary                yes   \n",
       "19984                       Art                 salary                yes   \n",
       "19985                    Comics                   Work                 no   \n",
       "19986                   Fantasy                 salary                yes   \n",
       "19987                    Poetry                 salary                 no   \n",
       "19988                     Drama                 salary                yes   \n",
       "19989               Biographies                   Work                yes   \n",
       "19990                     Drama                 salary                yes   \n",
       "19991                   Trilogy                   Work                 no   \n",
       "19992                 Cookbooks                 salary                yes   \n",
       "19993                    Satire                 salary                yes   \n",
       "19994                 Cookbooks                 salary                yes   \n",
       "19995                  Journals                   Work                yes   \n",
       "19996                 Cookbooks                 salary                 no   \n",
       "19997                     Drama                   Work                yes   \n",
       "19998                    Travel                   Work                 no   \n",
       "19999                    Comics                   Work                 no   \n",
       "\n",
       "       Gentle or Tuff behaviour Management or Technical Salarywork  \\\n",
       "0                      stubborn              Management     salary   \n",
       "1                        gentle               Technical     salary   \n",
       "2                      stubborn              Management       work   \n",
       "3                        gentle              Management       work   \n",
       "4                      stubborn              Management       work   \n",
       "5                      stubborn              Management       work   \n",
       "6                        gentle               Technical     salary   \n",
       "7                      stubborn               Technical     salary   \n",
       "8                        gentle               Technical       work   \n",
       "9                        gentle              Management     salary   \n",
       "10                     stubborn              Management     salary   \n",
       "11                     stubborn              Management       work   \n",
       "12                     stubborn               Technical       work   \n",
       "13                     stubborn              Management       work   \n",
       "14                     stubborn              Management       work   \n",
       "15                     stubborn               Technical     salary   \n",
       "16                       gentle               Technical       work   \n",
       "17                     stubborn              Management     salary   \n",
       "18                     stubborn               Technical       work   \n",
       "19                     stubborn              Management       work   \n",
       "20                     stubborn               Technical       work   \n",
       "21                     stubborn              Management     salary   \n",
       "22                       gentle              Management       work   \n",
       "23                       gentle              Management       work   \n",
       "24                     stubborn               Technical       work   \n",
       "25                     stubborn               Technical     salary   \n",
       "26                     stubborn              Management     salary   \n",
       "27                     stubborn               Technical       work   \n",
       "28                       gentle              Management       work   \n",
       "29                       gentle              Management       work   \n",
       "...                         ...                     ...        ...   \n",
       "19970                    gentle               Technical       work   \n",
       "19971                    gentle               Technical       work   \n",
       "19972                    gentle               Technical     salary   \n",
       "19973                  stubborn              Management     salary   \n",
       "19974                  stubborn               Technical     salary   \n",
       "19975                    gentle               Technical     salary   \n",
       "19976                  stubborn               Technical     salary   \n",
       "19977                    gentle               Technical       work   \n",
       "19978                  stubborn              Management     salary   \n",
       "19979                  stubborn               Technical     salary   \n",
       "19980                  stubborn               Technical       work   \n",
       "19981                    gentle               Technical       work   \n",
       "19982                    gentle              Management     salary   \n",
       "19983                  stubborn               Technical     salary   \n",
       "19984                    gentle              Management     salary   \n",
       "19985                  stubborn               Technical       work   \n",
       "19986                    gentle               Technical       work   \n",
       "19987                    gentle               Technical     salary   \n",
       "19988                    gentle               Technical     salary   \n",
       "19989                  stubborn              Management     salary   \n",
       "19990                  stubborn              Management       work   \n",
       "19991                    gentle              Management       work   \n",
       "19992                  stubborn              Management     salary   \n",
       "19993                  stubborn               Technical     salary   \n",
       "19994                  stubborn               Technical       work   \n",
       "19995                  stubborn              Management     salary   \n",
       "19996                  stubborn              Management     salary   \n",
       "19997                    gentle               Technical       work   \n",
       "19998                    gentle              Management       work   \n",
       "19999                    gentle              Management       work   \n",
       "\n",
       "      hardsmart worker worked in teams ever Introvert  \\\n",
       "0          hard worker                  yes        no   \n",
       "1          hard worker                   no       yes   \n",
       "2          hard worker                   no       yes   \n",
       "3         smart worker                  yes       yes   \n",
       "4          hard worker                  yes       yes   \n",
       "5         smart worker                  yes        no   \n",
       "6          hard worker                  yes       yes   \n",
       "7         smart worker                   no        no   \n",
       "8          hard worker                  yes       yes   \n",
       "9          hard worker                  yes        no   \n",
       "10         hard worker                  yes       yes   \n",
       "11        smart worker                  yes        no   \n",
       "12        smart worker                  yes        no   \n",
       "13        smart worker                  yes       yes   \n",
       "14         hard worker                  yes        no   \n",
       "15         hard worker                   no        no   \n",
       "16         hard worker                  yes       yes   \n",
       "17        smart worker                  yes        no   \n",
       "18         hard worker                  yes        no   \n",
       "19         hard worker                   no        no   \n",
       "20         hard worker                  yes        no   \n",
       "21         hard worker                  yes       yes   \n",
       "22         hard worker                   no       yes   \n",
       "23        smart worker                   no        no   \n",
       "24        smart worker                   no       yes   \n",
       "25         hard worker                   no       yes   \n",
       "26         hard worker                  yes        no   \n",
       "27        smart worker                   no        no   \n",
       "28         hard worker                   no        no   \n",
       "29        smart worker                  yes       yes   \n",
       "...                ...                  ...       ...   \n",
       "19970     smart worker                  yes       yes   \n",
       "19971     smart worker                  yes       yes   \n",
       "19972     smart worker                  yes       yes   \n",
       "19973      hard worker                   no        no   \n",
       "19974     smart worker                  yes       yes   \n",
       "19975     smart worker                  yes       yes   \n",
       "19976     smart worker                  yes       yes   \n",
       "19977      hard worker                  yes       yes   \n",
       "19978     smart worker                   no        no   \n",
       "19979      hard worker                  yes       yes   \n",
       "19980     smart worker                   no       yes   \n",
       "19981     smart worker                   no        no   \n",
       "19982     smart worker                   no       yes   \n",
       "19983      hard worker                   no       yes   \n",
       "19984     smart worker                  yes       yes   \n",
       "19985     smart worker                   no       yes   \n",
       "19986      hard worker                   no        no   \n",
       "19987     smart worker                   no        no   \n",
       "19988     smart worker                   no       yes   \n",
       "19989     smart worker                   no        no   \n",
       "19990     smart worker                  yes        no   \n",
       "19991      hard worker                   no       yes   \n",
       "19992      hard worker                  yes       yes   \n",
       "19993     smart worker                   no       yes   \n",
       "19994      hard worker                   no        no   \n",
       "19995     smart worker                  yes        no   \n",
       "19996      hard worker                   no       yes   \n",
       "19997      hard worker                   no       yes   \n",
       "19998     smart worker                  yes        no   \n",
       "19999      hard worker                  yes        no   \n",
       "\n",
       "                             Suggested Job Role  \n",
       "0                            Database Developer  \n",
       "1                          Portal Administrator  \n",
       "2                          Portal Administrator  \n",
       "3                Systems Security Administrator  \n",
       "4                      Business Systems Analyst  \n",
       "5                     Software Systems Engineer  \n",
       "6                            Database Developer  \n",
       "7                 Business Intelligence Analyst  \n",
       "8                      Business Systems Analyst  \n",
       "9                       CRM Technical Developer  \n",
       "10                Mobile Applications Developer  \n",
       "11                                  UX Designer  \n",
       "12                      CRM Technical Developer  \n",
       "13                     Business Systems Analyst  \n",
       "14                  Quality Assurance Associate  \n",
       "15                                Web Developer  \n",
       "16                                Web Developer  \n",
       "17                 Information Security Analyst  \n",
       "18                         CRM Business Analyst  \n",
       "19                 Information Security Analyst  \n",
       "20                           Database Developer  \n",
       "21                     Business Systems Analyst  \n",
       "22                  Quality Assurance Associate  \n",
       "23                            Technical Support  \n",
       "24                            Technical Support  \n",
       "25                 Information Security Analyst  \n",
       "26                Business Intelligence Analyst  \n",
       "27                              Project Manager  \n",
       "28               Information Technology Manager  \n",
       "29                                Web Developer  \n",
       "...                                         ...  \n",
       "19970             Business Intelligence Analyst  \n",
       "19971             Mobile Applications Developer  \n",
       "19972                        Programmer Analyst  \n",
       "19973            Information Technology Manager  \n",
       "19974                        E-Commerce Analyst  \n",
       "19975                        Software Developer  \n",
       "19976                           Project Manager  \n",
       "19977                      Portal Administrator  \n",
       "19978                         Software Engineer  \n",
       "19979                  Business Systems Analyst  \n",
       "19980                         Software Engineer  \n",
       "19981                    Applications Developer  \n",
       "19982              Information Security Analyst  \n",
       "19983                          Database Manager  \n",
       "19984                        Technical Engineer  \n",
       "19985                       Solutions Architect  \n",
       "19986            Information Technology Manager  \n",
       "19987             Business Intelligence Analyst  \n",
       "19988                             Web Developer  \n",
       "19989                        Programmer Analyst  \n",
       "19990                             Web Developer  \n",
       "19991            Information Technology Manager  \n",
       "19992                         Technical Support  \n",
       "19993                 Software Systems Engineer  \n",
       "19994                         Software Engineer  \n",
       "19995                        Technical Engineer  \n",
       "19996                        E-Commerce Analyst  \n",
       "19997             Business Intelligence Analyst  \n",
       "19998  Software Quality Assurance (QA)  Testing  \n",
       "19999                    Applications Developer  \n",
       "\n",
       "[20000 rows x 39 columns]"
      ]
     },
     "execution_count": 3,
     "metadata": {},
     "output_type": "execute_result"
    }
   ],
   "source": [
    "dataset\n"
   ]
  },
  {
   "cell_type": "markdown",
   "metadata": {},
   "source": [
    "# Exploratory Data Analysis"
   ]
  },
  {
   "cell_type": "code",
   "execution_count": 4,
   "metadata": {},
   "outputs": [
    {
     "data": {
      "text/html": [
       "<div>\n",
       "<style scoped>\n",
       "    .dataframe tbody tr th:only-of-type {\n",
       "        vertical-align: middle;\n",
       "    }\n",
       "\n",
       "    .dataframe tbody tr th {\n",
       "        vertical-align: top;\n",
       "    }\n",
       "\n",
       "    .dataframe thead th {\n",
       "        text-align: right;\n",
       "    }\n",
       "</style>\n",
       "<table border=\"1\" class=\"dataframe\">\n",
       "  <thead>\n",
       "    <tr style=\"text-align: right;\">\n",
       "      <th></th>\n",
       "      <th>Acedamic percentage in Operating Systems</th>\n",
       "      <th>percentage in Algorithms</th>\n",
       "      <th>Percentage in Programming Concepts</th>\n",
       "      <th>Percentage in Software Engineering</th>\n",
       "      <th>Percentage in Computer Networks</th>\n",
       "      <th>Percentage in Electronics Subjects</th>\n",
       "      <th>Percentage in Computer Architecture</th>\n",
       "      <th>Percentage in Mathematics</th>\n",
       "      <th>Percentage in Communication skills</th>\n",
       "      <th>Hours working per day</th>\n",
       "      <th>Logical quotient rating</th>\n",
       "      <th>hackathons</th>\n",
       "      <th>coding skills rating</th>\n",
       "      <th>public speaking points</th>\n",
       "    </tr>\n",
       "  </thead>\n",
       "  <tbody>\n",
       "    <tr>\n",
       "      <th>count</th>\n",
       "      <td>20000.000000</td>\n",
       "      <td>20000.000000</td>\n",
       "      <td>20000.000000</td>\n",
       "      <td>20000.000000</td>\n",
       "      <td>20000.000000</td>\n",
       "      <td>20000.000000</td>\n",
       "      <td>20000.000000</td>\n",
       "      <td>20000.000000</td>\n",
       "      <td>20000.000000</td>\n",
       "      <td>20000.000000</td>\n",
       "      <td>20000.000000</td>\n",
       "      <td>20000.000000</td>\n",
       "      <td>20000.000000</td>\n",
       "      <td>20000.000000</td>\n",
       "    </tr>\n",
       "    <tr>\n",
       "      <th>mean</th>\n",
       "      <td>77.002300</td>\n",
       "      <td>76.948200</td>\n",
       "      <td>77.017550</td>\n",
       "      <td>77.094500</td>\n",
       "      <td>76.958200</td>\n",
       "      <td>77.015550</td>\n",
       "      <td>77.069850</td>\n",
       "      <td>76.913100</td>\n",
       "      <td>76.921450</td>\n",
       "      <td>7.985950</td>\n",
       "      <td>4.995050</td>\n",
       "      <td>2.992650</td>\n",
       "      <td>5.004750</td>\n",
       "      <td>5.012800</td>\n",
       "    </tr>\n",
       "    <tr>\n",
       "      <th>std</th>\n",
       "      <td>10.085697</td>\n",
       "      <td>10.101733</td>\n",
       "      <td>10.134815</td>\n",
       "      <td>10.087837</td>\n",
       "      <td>10.020088</td>\n",
       "      <td>10.168888</td>\n",
       "      <td>10.069059</td>\n",
       "      <td>10.138555</td>\n",
       "      <td>10.103494</td>\n",
       "      <td>2.593798</td>\n",
       "      <td>2.578383</td>\n",
       "      <td>2.005791</td>\n",
       "      <td>2.576831</td>\n",
       "      <td>2.588875</td>\n",
       "    </tr>\n",
       "    <tr>\n",
       "      <th>min</th>\n",
       "      <td>60.000000</td>\n",
       "      <td>60.000000</td>\n",
       "      <td>60.000000</td>\n",
       "      <td>60.000000</td>\n",
       "      <td>60.000000</td>\n",
       "      <td>60.000000</td>\n",
       "      <td>60.000000</td>\n",
       "      <td>60.000000</td>\n",
       "      <td>60.000000</td>\n",
       "      <td>4.000000</td>\n",
       "      <td>1.000000</td>\n",
       "      <td>0.000000</td>\n",
       "      <td>1.000000</td>\n",
       "      <td>1.000000</td>\n",
       "    </tr>\n",
       "    <tr>\n",
       "      <th>25%</th>\n",
       "      <td>68.000000</td>\n",
       "      <td>68.000000</td>\n",
       "      <td>68.000000</td>\n",
       "      <td>68.000000</td>\n",
       "      <td>68.000000</td>\n",
       "      <td>68.000000</td>\n",
       "      <td>68.000000</td>\n",
       "      <td>68.000000</td>\n",
       "      <td>68.000000</td>\n",
       "      <td>6.000000</td>\n",
       "      <td>3.000000</td>\n",
       "      <td>1.000000</td>\n",
       "      <td>3.000000</td>\n",
       "      <td>3.000000</td>\n",
       "    </tr>\n",
       "    <tr>\n",
       "      <th>50%</th>\n",
       "      <td>77.000000</td>\n",
       "      <td>77.000000</td>\n",
       "      <td>77.000000</td>\n",
       "      <td>77.000000</td>\n",
       "      <td>77.000000</td>\n",
       "      <td>77.000000</td>\n",
       "      <td>77.000000</td>\n",
       "      <td>77.000000</td>\n",
       "      <td>77.000000</td>\n",
       "      <td>8.000000</td>\n",
       "      <td>5.000000</td>\n",
       "      <td>3.000000</td>\n",
       "      <td>5.000000</td>\n",
       "      <td>5.000000</td>\n",
       "    </tr>\n",
       "    <tr>\n",
       "      <th>75%</th>\n",
       "      <td>86.000000</td>\n",
       "      <td>86.000000</td>\n",
       "      <td>86.000000</td>\n",
       "      <td>86.000000</td>\n",
       "      <td>85.000000</td>\n",
       "      <td>86.000000</td>\n",
       "      <td>86.000000</td>\n",
       "      <td>86.000000</td>\n",
       "      <td>86.000000</td>\n",
       "      <td>10.000000</td>\n",
       "      <td>7.000000</td>\n",
       "      <td>5.000000</td>\n",
       "      <td>7.000000</td>\n",
       "      <td>7.000000</td>\n",
       "    </tr>\n",
       "    <tr>\n",
       "      <th>max</th>\n",
       "      <td>94.000000</td>\n",
       "      <td>94.000000</td>\n",
       "      <td>94.000000</td>\n",
       "      <td>94.000000</td>\n",
       "      <td>94.000000</td>\n",
       "      <td>94.000000</td>\n",
       "      <td>94.000000</td>\n",
       "      <td>94.000000</td>\n",
       "      <td>94.000000</td>\n",
       "      <td>12.000000</td>\n",
       "      <td>9.000000</td>\n",
       "      <td>6.000000</td>\n",
       "      <td>9.000000</td>\n",
       "      <td>9.000000</td>\n",
       "    </tr>\n",
       "  </tbody>\n",
       "</table>\n",
       "</div>"
      ],
      "text/plain": [
       "       Acedamic percentage in Operating Systems  percentage in Algorithms  \\\n",
       "count                              20000.000000              20000.000000   \n",
       "mean                                  77.002300                 76.948200   \n",
       "std                                   10.085697                 10.101733   \n",
       "min                                   60.000000                 60.000000   \n",
       "25%                                   68.000000                 68.000000   \n",
       "50%                                   77.000000                 77.000000   \n",
       "75%                                   86.000000                 86.000000   \n",
       "max                                   94.000000                 94.000000   \n",
       "\n",
       "       Percentage in Programming Concepts  Percentage in Software Engineering  \\\n",
       "count                        20000.000000                        20000.000000   \n",
       "mean                            77.017550                           77.094500   \n",
       "std                             10.134815                           10.087837   \n",
       "min                             60.000000                           60.000000   \n",
       "25%                             68.000000                           68.000000   \n",
       "50%                             77.000000                           77.000000   \n",
       "75%                             86.000000                           86.000000   \n",
       "max                             94.000000                           94.000000   \n",
       "\n",
       "       Percentage in Computer Networks  Percentage in Electronics Subjects  \\\n",
       "count                     20000.000000                        20000.000000   \n",
       "mean                         76.958200                           77.015550   \n",
       "std                          10.020088                           10.168888   \n",
       "min                          60.000000                           60.000000   \n",
       "25%                          68.000000                           68.000000   \n",
       "50%                          77.000000                           77.000000   \n",
       "75%                          85.000000                           86.000000   \n",
       "max                          94.000000                           94.000000   \n",
       "\n",
       "       Percentage in Computer Architecture  Percentage in Mathematics  \\\n",
       "count                         20000.000000               20000.000000   \n",
       "mean                             77.069850                  76.913100   \n",
       "std                              10.069059                  10.138555   \n",
       "min                              60.000000                  60.000000   \n",
       "25%                              68.000000                  68.000000   \n",
       "50%                              77.000000                  77.000000   \n",
       "75%                              86.000000                  86.000000   \n",
       "max                              94.000000                  94.000000   \n",
       "\n",
       "       Percentage in Communication skills  Hours working per day  \\\n",
       "count                        20000.000000           20000.000000   \n",
       "mean                            76.921450               7.985950   \n",
       "std                             10.103494               2.593798   \n",
       "min                             60.000000               4.000000   \n",
       "25%                             68.000000               6.000000   \n",
       "50%                             77.000000               8.000000   \n",
       "75%                             86.000000              10.000000   \n",
       "max                             94.000000              12.000000   \n",
       "\n",
       "       Logical quotient rating    hackathons  coding skills rating  \\\n",
       "count             20000.000000  20000.000000          20000.000000   \n",
       "mean                  4.995050      2.992650              5.004750   \n",
       "std                   2.578383      2.005791              2.576831   \n",
       "min                   1.000000      0.000000              1.000000   \n",
       "25%                   3.000000      1.000000              3.000000   \n",
       "50%                   5.000000      3.000000              5.000000   \n",
       "75%                   7.000000      5.000000              7.000000   \n",
       "max                   9.000000      6.000000              9.000000   \n",
       "\n",
       "       public speaking points  \n",
       "count            20000.000000  \n",
       "mean                 5.012800  \n",
       "std                  2.588875  \n",
       "min                  1.000000  \n",
       "25%                  3.000000  \n",
       "50%                  5.000000  \n",
       "75%                  7.000000  \n",
       "max                  9.000000  "
      ]
     },
     "execution_count": 4,
     "metadata": {},
     "output_type": "execute_result"
    }
   ],
   "source": [
    "dataset.describe() \n"
   ]
  },
  {
   "cell_type": "code",
   "execution_count": 5,
   "metadata": {},
   "outputs": [],
   "source": [
    "data = dataset.iloc[:,:].values\n",
    "label = dataset.iloc[:,-1].values"
   ]
  },
  {
   "cell_type": "code",
   "execution_count": 6,
   "metadata": {},
   "outputs": [
    {
     "data": {
      "text/plain": [
       "array([[69, 63, 78, ..., 'yes', 'no', 'Database Developer'],\n",
       "       [78, 62, 73, ..., 'no', 'yes', 'Portal Administrator'],\n",
       "       [71, 86, 91, ..., 'no', 'yes', 'Portal Administrator'],\n",
       "       ...,\n",
       "       [83, 70, 80, ..., 'no', 'yes', 'Business Intelligence Analyst'],\n",
       "       [68, 87, 91, ..., 'yes', 'no',\n",
       "        'Software Quality Assurance (QA)  Testing'],\n",
       "       [73, 77, 74, ..., 'yes', 'no', 'Applications Developer']],\n",
       "      dtype=object)"
      ]
     },
     "execution_count": 6,
     "metadata": {},
     "output_type": "execute_result"
    }
   ],
   "source": [
    "data"
   ]
  },
  {
   "cell_type": "code",
   "execution_count": 7,
   "metadata": {},
   "outputs": [
    {
     "data": {
      "text/plain": [
       "(20000, 39)"
      ]
     },
     "execution_count": 7,
     "metadata": {},
     "output_type": "execute_result"
    }
   ],
   "source": [
    "data.shape"
   ]
  },
  {
   "cell_type": "code",
   "execution_count": 8,
   "metadata": {},
   "outputs": [
    {
     "data": {
      "text/plain": [
       "(20000,)"
      ]
     },
     "execution_count": 8,
     "metadata": {},
     "output_type": "execute_result"
    }
   ],
   "source": [
    "label.shape"
   ]
  },
  {
   "cell_type": "code",
   "execution_count": 9,
   "metadata": {},
   "outputs": [
    {
     "data": {
      "text/plain": [
       "['Acedamic percentage in Operating Systems',\n",
       " 'percentage in Algorithms',\n",
       " 'Percentage in Programming Concepts',\n",
       " 'Percentage in Software Engineering',\n",
       " 'Percentage in Computer Networks',\n",
       " 'Percentage in Electronics Subjects',\n",
       " 'Percentage in Computer Architecture',\n",
       " 'Percentage in Mathematics',\n",
       " 'Percentage in Communication skills',\n",
       " 'Hours working per day',\n",
       " 'Logical quotient rating',\n",
       " 'hackathons',\n",
       " 'coding skills rating',\n",
       " 'public speaking points',\n",
       " 'can work long time before system',\n",
       " 'self-learning capability',\n",
       " 'Extra-courses did',\n",
       " 'certifications',\n",
       " 'workshops',\n",
       " 'talenttests taken',\n",
       " 'olympiads',\n",
       " 'reading and writing skills',\n",
       " 'memory capability score',\n",
       " 'Interested subjects',\n",
       " 'interested career area ',\n",
       " 'JobHigher Studies',\n",
       " 'Type of company want to settle in',\n",
       " 'Taken inputs from seniors or elders',\n",
       " 'interested in games',\n",
       " 'Interested Type of Books',\n",
       " 'Salary Range Expected',\n",
       " 'In a Realtionship',\n",
       " 'Gentle or Tuff behaviour',\n",
       " 'Management or Technical',\n",
       " 'Salarywork',\n",
       " 'hardsmart worker',\n",
       " 'worked in teams ever',\n",
       " 'Introvert',\n",
       " 'Suggested Job Role']"
      ]
     },
     "execution_count": 9,
     "metadata": {},
     "output_type": "execute_result"
    }
   ],
   "source": [
    "list(dataset.columns)"
   ]
  },
  {
   "cell_type": "code",
   "execution_count": 10,
   "metadata": {},
   "outputs": [
    {
     "data": {
      "text/plain": [
       "780000"
      ]
     },
     "execution_count": 10,
     "metadata": {},
     "output_type": "execute_result"
    }
   ],
   "source": [
    "data.size"
   ]
  },
  {
   "cell_type": "code",
   "execution_count": 11,
   "metadata": {},
   "outputs": [],
   "source": [
    "from sklearn.preprocessing import LabelEncoder, OneHotEncoder"
   ]
  },
  {
   "cell_type": "code",
   "execution_count": 12,
   "metadata": {},
   "outputs": [],
   "source": [
    "labelencoder = LabelEncoder()"
   ]
  },
  {
   "cell_type": "code",
   "execution_count": 13,
   "metadata": {},
   "outputs": [],
   "source": [
    "for i in range(14,38):\n",
    "    data[:,i] = labelencoder.fit_transform(data[:,i])"
   ]
  },
  {
   "cell_type": "code",
   "execution_count": 14,
   "metadata": {},
   "outputs": [
    {
     "data": {
      "text/plain": [
       "array([[69, 63, 78, ..., 1, 0, 'Database Developer'],\n",
       "       [78, 62, 73, ..., 0, 1, 'Portal Administrator'],\n",
       "       [71, 86, 91, ..., 0, 1, 'Portal Administrator'],\n",
       "       ...,\n",
       "       [83, 70, 80, ..., 0, 1, 'Business Intelligence Analyst'],\n",
       "       [68, 87, 91, ..., 1, 0,\n",
       "        'Software Quality Assurance (QA)  Testing'],\n",
       "       [73, 77, 74, ..., 1, 0, 'Applications Developer']], dtype=object)"
      ]
     },
     "execution_count": 14,
     "metadata": {},
     "output_type": "execute_result"
    }
   ],
   "source": [
    "data\n"
   ]
  },
  {
   "cell_type": "code",
   "execution_count": 15,
   "metadata": {},
   "outputs": [
    {
     "data": {
      "text/plain": [
       "(20000, 39)"
      ]
     },
     "execution_count": 15,
     "metadata": {},
     "output_type": "execute_result"
    }
   ],
   "source": [
    "data.shape"
   ]
  },
  {
   "cell_type": "markdown",
   "metadata": {},
   "source": [
    "# Subsets of Data"
   ]
  },
  {
   "cell_type": "markdown",
   "metadata": {},
   "source": [
    "## Academic data"
   ]
  },
  {
   "cell_type": "code",
   "execution_count": 16,
   "metadata": {},
   "outputs": [],
   "source": [
    "academic_data_r=dataset.iloc[:,0:9]"
   ]
  },
  {
   "cell_type": "code",
   "execution_count": 17,
   "metadata": {},
   "outputs": [
    {
     "data": {
      "text/html": [
       "<div>\n",
       "<style scoped>\n",
       "    .dataframe tbody tr th:only-of-type {\n",
       "        vertical-align: middle;\n",
       "    }\n",
       "\n",
       "    .dataframe tbody tr th {\n",
       "        vertical-align: top;\n",
       "    }\n",
       "\n",
       "    .dataframe thead th {\n",
       "        text-align: right;\n",
       "    }\n",
       "</style>\n",
       "<table border=\"1\" class=\"dataframe\">\n",
       "  <thead>\n",
       "    <tr style=\"text-align: right;\">\n",
       "      <th></th>\n",
       "      <th>Acedamic percentage in Operating Systems</th>\n",
       "      <th>percentage in Algorithms</th>\n",
       "      <th>Percentage in Programming Concepts</th>\n",
       "      <th>Percentage in Software Engineering</th>\n",
       "      <th>Percentage in Computer Networks</th>\n",
       "      <th>Percentage in Electronics Subjects</th>\n",
       "      <th>Percentage in Computer Architecture</th>\n",
       "      <th>Percentage in Mathematics</th>\n",
       "      <th>Percentage in Communication skills</th>\n",
       "    </tr>\n",
       "  </thead>\n",
       "  <tbody>\n",
       "    <tr>\n",
       "      <th>0</th>\n",
       "      <td>69</td>\n",
       "      <td>63</td>\n",
       "      <td>78</td>\n",
       "      <td>87</td>\n",
       "      <td>94</td>\n",
       "      <td>94</td>\n",
       "      <td>87</td>\n",
       "      <td>84</td>\n",
       "      <td>61</td>\n",
       "    </tr>\n",
       "    <tr>\n",
       "      <th>1</th>\n",
       "      <td>78</td>\n",
       "      <td>62</td>\n",
       "      <td>73</td>\n",
       "      <td>60</td>\n",
       "      <td>71</td>\n",
       "      <td>70</td>\n",
       "      <td>73</td>\n",
       "      <td>84</td>\n",
       "      <td>91</td>\n",
       "    </tr>\n",
       "    <tr>\n",
       "      <th>2</th>\n",
       "      <td>71</td>\n",
       "      <td>86</td>\n",
       "      <td>91</td>\n",
       "      <td>87</td>\n",
       "      <td>61</td>\n",
       "      <td>81</td>\n",
       "      <td>72</td>\n",
       "      <td>72</td>\n",
       "      <td>94</td>\n",
       "    </tr>\n",
       "    <tr>\n",
       "      <th>3</th>\n",
       "      <td>76</td>\n",
       "      <td>87</td>\n",
       "      <td>60</td>\n",
       "      <td>84</td>\n",
       "      <td>89</td>\n",
       "      <td>73</td>\n",
       "      <td>62</td>\n",
       "      <td>88</td>\n",
       "      <td>69</td>\n",
       "    </tr>\n",
       "    <tr>\n",
       "      <th>4</th>\n",
       "      <td>92</td>\n",
       "      <td>62</td>\n",
       "      <td>90</td>\n",
       "      <td>67</td>\n",
       "      <td>71</td>\n",
       "      <td>89</td>\n",
       "      <td>73</td>\n",
       "      <td>71</td>\n",
       "      <td>73</td>\n",
       "    </tr>\n",
       "  </tbody>\n",
       "</table>\n",
       "</div>"
      ],
      "text/plain": [
       "   Acedamic percentage in Operating Systems  percentage in Algorithms  \\\n",
       "0                                        69                        63   \n",
       "1                                        78                        62   \n",
       "2                                        71                        86   \n",
       "3                                        76                        87   \n",
       "4                                        92                        62   \n",
       "\n",
       "   Percentage in Programming Concepts  Percentage in Software Engineering  \\\n",
       "0                                  78                                  87   \n",
       "1                                  73                                  60   \n",
       "2                                  91                                  87   \n",
       "3                                  60                                  84   \n",
       "4                                  90                                  67   \n",
       "\n",
       "   Percentage in Computer Networks  Percentage in Electronics Subjects  \\\n",
       "0                               94                                  94   \n",
       "1                               71                                  70   \n",
       "2                               61                                  81   \n",
       "3                               89                                  73   \n",
       "4                               71                                  89   \n",
       "\n",
       "   Percentage in Computer Architecture  Percentage in Mathematics  \\\n",
       "0                                   87                         84   \n",
       "1                                   73                         84   \n",
       "2                                   72                         72   \n",
       "3                                   62                         88   \n",
       "4                                   73                         71   \n",
       "\n",
       "   Percentage in Communication skills  \n",
       "0                                  61  \n",
       "1                                  91  \n",
       "2                                  94  \n",
       "3                                  69  \n",
       "4                                  73  "
      ]
     },
     "execution_count": 17,
     "metadata": {},
     "output_type": "execute_result"
    }
   ],
   "source": [
    "academic_data_r.head()"
   ]
  },
  {
   "cell_type": "code",
   "execution_count": 18,
   "metadata": {},
   "outputs": [],
   "source": [
    "academic_data=data[:,0:9]"
   ]
  },
  {
   "cell_type": "code",
   "execution_count": 19,
   "metadata": {},
   "outputs": [
    {
     "data": {
      "text/plain": [
       "array([[69, 63, 78, ..., 87, 84, 61],\n",
       "       [78, 62, 73, ..., 73, 84, 91],\n",
       "       [71, 86, 91, ..., 72, 72, 94],\n",
       "       ...,\n",
       "       [83, 70, 80, ..., 69, 94, 88],\n",
       "       [68, 87, 91, ..., 61, 87, 61],\n",
       "       [73, 77, 74, ..., 92, 73, 90]], dtype=object)"
      ]
     },
     "execution_count": 19,
     "metadata": {},
     "output_type": "execute_result"
    }
   ],
   "source": [
    "academic_data"
   ]
  },
  {
   "cell_type": "code",
   "execution_count": 20,
   "metadata": {},
   "outputs": [
    {
     "data": {
      "text/plain": [
       "(20000, 9)"
      ]
     },
     "execution_count": 20,
     "metadata": {},
     "output_type": "execute_result"
    }
   ],
   "source": [
    "academic_data.shape"
   ]
  },
  {
   "cell_type": "code",
   "execution_count": 21,
   "metadata": {},
   "outputs": [
    {
     "data": {
      "text/plain": [
       "13858814"
      ]
     },
     "execution_count": 21,
     "metadata": {},
     "output_type": "execute_result"
    }
   ],
   "source": [
    "np.sum(academic_data)"
   ]
  },
  {
   "cell_type": "code",
   "execution_count": 22,
   "metadata": {},
   "outputs": [],
   "source": [
    " academic_percentage=np.sum(academic_data, axis = 1, keepdims = True)"
   ]
  },
  {
   "cell_type": "code",
   "execution_count": 23,
   "metadata": {},
   "outputs": [
    {
     "data": {
      "text/plain": [
       "array([[717],\n",
       "       [662],\n",
       "       [715],\n",
       "       ...,\n",
       "       [720],\n",
       "       [683],\n",
       "       [698]], dtype=object)"
      ]
     },
     "execution_count": 23,
     "metadata": {},
     "output_type": "execute_result"
    }
   ],
   "source": [
    "academic_percentage"
   ]
  },
  {
   "cell_type": "code",
   "execution_count": 140,
   "metadata": {},
   "outputs": [],
   "source": [
    "academic_percentage=np.true_divide(academic_percentage, 9)"
   ]
  },
  {
   "cell_type": "code",
   "execution_count": 141,
   "metadata": {},
   "outputs": [
    {
     "data": {
      "text/plain": [
       "array([[79.66666666666667],\n",
       "       [73.55555555555556],\n",
       "       [79.44444444444444],\n",
       "       ...,\n",
       "       [80.0],\n",
       "       [75.88888888888889],\n",
       "       [77.55555555555556]], dtype=object)"
      ]
     },
     "execution_count": 141,
     "metadata": {},
     "output_type": "execute_result"
    }
   ],
   "source": [
    "academic_percentage"
   ]
  },
  {
   "cell_type": "markdown",
   "metadata": {},
   "source": [
    "## Communication Skills Data"
   ]
  },
  {
   "cell_type": "code",
   "execution_count": 26,
   "metadata": {},
   "outputs": [],
   "source": [
    "communication_skill_data_r=dataset.iloc[:,[13,21]]"
   ]
  },
  {
   "cell_type": "code",
   "execution_count": 27,
   "metadata": {},
   "outputs": [],
   "source": [
    "communication_skill_data=data[:,[13,21]]"
   ]
  },
  {
   "cell_type": "code",
   "execution_count": 28,
   "metadata": {},
   "outputs": [
    {
     "data": {
      "text/html": [
       "<div>\n",
       "<style scoped>\n",
       "    .dataframe tbody tr th:only-of-type {\n",
       "        vertical-align: middle;\n",
       "    }\n",
       "\n",
       "    .dataframe tbody tr th {\n",
       "        vertical-align: top;\n",
       "    }\n",
       "\n",
       "    .dataframe thead th {\n",
       "        text-align: right;\n",
       "    }\n",
       "</style>\n",
       "<table border=\"1\" class=\"dataframe\">\n",
       "  <thead>\n",
       "    <tr style=\"text-align: right;\">\n",
       "      <th></th>\n",
       "      <th>public speaking points</th>\n",
       "      <th>reading and writing skills</th>\n",
       "    </tr>\n",
       "  </thead>\n",
       "  <tbody>\n",
       "    <tr>\n",
       "      <th>0</th>\n",
       "      <td>8</td>\n",
       "      <td>excellent</td>\n",
       "    </tr>\n",
       "    <tr>\n",
       "      <th>1</th>\n",
       "      <td>3</td>\n",
       "      <td>poor</td>\n",
       "    </tr>\n",
       "    <tr>\n",
       "      <th>2</th>\n",
       "      <td>3</td>\n",
       "      <td>poor</td>\n",
       "    </tr>\n",
       "    <tr>\n",
       "      <th>3</th>\n",
       "      <td>5</td>\n",
       "      <td>medium</td>\n",
       "    </tr>\n",
       "    <tr>\n",
       "      <th>4</th>\n",
       "      <td>3</td>\n",
       "      <td>poor</td>\n",
       "    </tr>\n",
       "    <tr>\n",
       "      <th>5</th>\n",
       "      <td>1</td>\n",
       "      <td>poor</td>\n",
       "    </tr>\n",
       "    <tr>\n",
       "      <th>6</th>\n",
       "      <td>3</td>\n",
       "      <td>excellent</td>\n",
       "    </tr>\n",
       "    <tr>\n",
       "      <th>7</th>\n",
       "      <td>6</td>\n",
       "      <td>poor</td>\n",
       "    </tr>\n",
       "    <tr>\n",
       "      <th>8</th>\n",
       "      <td>8</td>\n",
       "      <td>poor</td>\n",
       "    </tr>\n",
       "    <tr>\n",
       "      <th>9</th>\n",
       "      <td>4</td>\n",
       "      <td>excellent</td>\n",
       "    </tr>\n",
       "  </tbody>\n",
       "</table>\n",
       "</div>"
      ],
      "text/plain": [
       "   public speaking points reading and writing skills\n",
       "0                       8                  excellent\n",
       "1                       3                       poor\n",
       "2                       3                       poor\n",
       "3                       5                     medium\n",
       "4                       3                       poor\n",
       "5                       1                       poor\n",
       "6                       3                  excellent\n",
       "7                       6                       poor\n",
       "8                       8                       poor\n",
       "9                       4                  excellent"
      ]
     },
     "execution_count": 28,
     "metadata": {},
     "output_type": "execute_result"
    }
   ],
   "source": [
    "communication_skill_data_r.head(n=10)"
   ]
  },
  {
   "cell_type": "code",
   "execution_count": 29,
   "metadata": {},
   "outputs": [
    {
     "data": {
      "text/plain": [
       "array([[8, 0],\n",
       "       [3, 2],\n",
       "       [3, 2],\n",
       "       ...,\n",
       "       [3, 1],\n",
       "       [5, 2],\n",
       "       [6, 0]], dtype=object)"
      ]
     },
     "execution_count": 29,
     "metadata": {},
     "output_type": "execute_result"
    }
   ],
   "source": [
    "communication_skill_data"
   ]
  },
  {
   "cell_type": "code",
   "execution_count": 30,
   "metadata": {},
   "outputs": [
    {
     "data": {
      "text/plain": [
       "(20000, 2)"
      ]
     },
     "execution_count": 30,
     "metadata": {},
     "output_type": "execute_result"
    }
   ],
   "source": [
    "communication_skill_data.shape"
   ]
  },
  {
   "cell_type": "code",
   "execution_count": 31,
   "metadata": {},
   "outputs": [
    {
     "data": {
      "text/plain": [
       "9"
      ]
     },
     "execution_count": 31,
     "metadata": {},
     "output_type": "execute_result"
    }
   ],
   "source": [
    "\n",
    "np.amax(communication_skill_data, axis=None, out=None)\n"
   ]
  },
  {
   "cell_type": "code",
   "execution_count": 32,
   "metadata": {},
   "outputs": [],
   "source": [
    "communication_percentage=np.sum(communication_skill_data, axis = 1, keepdims = True)"
   ]
  },
  {
   "cell_type": "code",
   "execution_count": 33,
   "metadata": {},
   "outputs": [
    {
     "data": {
      "text/plain": [
       "array([[8],\n",
       "       [5],\n",
       "       [5],\n",
       "       ...,\n",
       "       [4],\n",
       "       [7],\n",
       "       [6]], dtype=object)"
      ]
     },
     "execution_count": 33,
     "metadata": {},
     "output_type": "execute_result"
    }
   ],
   "source": [
    "communication_percentage"
   ]
  },
  {
   "cell_type": "code",
   "execution_count": 34,
   "metadata": {},
   "outputs": [],
   "source": [
    "communication_percentage=np.true_divide(communication_percentage,12)"
   ]
  },
  {
   "cell_type": "code",
   "execution_count": 35,
   "metadata": {},
   "outputs": [
    {
     "data": {
      "text/plain": [
       "array([[0.6666666666666666],\n",
       "       [0.4166666666666667],\n",
       "       [0.4166666666666667],\n",
       "       ...,\n",
       "       [0.3333333333333333],\n",
       "       [0.5833333333333334],\n",
       "       [0.5]], dtype=object)"
      ]
     },
     "execution_count": 35,
     "metadata": {},
     "output_type": "execute_result"
    }
   ],
   "source": [
    "communication_percentage"
   ]
  },
  {
   "cell_type": "code",
   "execution_count": 144,
   "metadata": {},
   "outputs": [],
   "source": [
    "communication_percentage=np.multiply(communication_percentage,100)"
   ]
  },
  {
   "cell_type": "code",
   "execution_count": 145,
   "metadata": {},
   "outputs": [
    {
     "data": {
      "text/plain": [
       "array([[66.66666666666666],\n",
       "       [41.66666666666667],\n",
       "       [41.66666666666667],\n",
       "       ...,\n",
       "       [33.33333333333333],\n",
       "       [58.333333333333336],\n",
       "       [50.0]], dtype=object)"
      ]
     },
     "execution_count": 145,
     "metadata": {},
     "output_type": "execute_result"
    }
   ],
   "source": [
    "communication_percentage"
   ]
  },
  {
   "cell_type": "markdown",
   "metadata": {},
   "source": [
    "## Teamwork_data"
   ]
  },
  {
   "cell_type": "code",
   "execution_count": 38,
   "metadata": {},
   "outputs": [],
   "source": [
    "teamwork_data_r=dataset.iloc[:,[27,28,32,33,35,36]]"
   ]
  },
  {
   "cell_type": "code",
   "execution_count": 39,
   "metadata": {},
   "outputs": [
    {
     "data": {
      "text/html": [
       "<div>\n",
       "<style scoped>\n",
       "    .dataframe tbody tr th:only-of-type {\n",
       "        vertical-align: middle;\n",
       "    }\n",
       "\n",
       "    .dataframe tbody tr th {\n",
       "        vertical-align: top;\n",
       "    }\n",
       "\n",
       "    .dataframe thead th {\n",
       "        text-align: right;\n",
       "    }\n",
       "</style>\n",
       "<table border=\"1\" class=\"dataframe\">\n",
       "  <thead>\n",
       "    <tr style=\"text-align: right;\">\n",
       "      <th></th>\n",
       "      <th>Taken inputs from seniors or elders</th>\n",
       "      <th>interested in games</th>\n",
       "      <th>Gentle or Tuff behaviour</th>\n",
       "      <th>Management or Technical</th>\n",
       "      <th>hardsmart worker</th>\n",
       "      <th>worked in teams ever</th>\n",
       "    </tr>\n",
       "  </thead>\n",
       "  <tbody>\n",
       "    <tr>\n",
       "      <th>0</th>\n",
       "      <td>no</td>\n",
       "      <td>no</td>\n",
       "      <td>stubborn</td>\n",
       "      <td>Management</td>\n",
       "      <td>hard worker</td>\n",
       "      <td>yes</td>\n",
       "    </tr>\n",
       "    <tr>\n",
       "      <th>1</th>\n",
       "      <td>yes</td>\n",
       "      <td>yes</td>\n",
       "      <td>gentle</td>\n",
       "      <td>Technical</td>\n",
       "      <td>hard worker</td>\n",
       "      <td>no</td>\n",
       "    </tr>\n",
       "    <tr>\n",
       "      <th>2</th>\n",
       "      <td>yes</td>\n",
       "      <td>yes</td>\n",
       "      <td>stubborn</td>\n",
       "      <td>Management</td>\n",
       "      <td>hard worker</td>\n",
       "      <td>no</td>\n",
       "    </tr>\n",
       "    <tr>\n",
       "      <th>3</th>\n",
       "      <td>no</td>\n",
       "      <td>no</td>\n",
       "      <td>gentle</td>\n",
       "      <td>Management</td>\n",
       "      <td>smart worker</td>\n",
       "      <td>yes</td>\n",
       "    </tr>\n",
       "    <tr>\n",
       "      <th>4</th>\n",
       "      <td>no</td>\n",
       "      <td>yes</td>\n",
       "      <td>stubborn</td>\n",
       "      <td>Management</td>\n",
       "      <td>hard worker</td>\n",
       "      <td>yes</td>\n",
       "    </tr>\n",
       "  </tbody>\n",
       "</table>\n",
       "</div>"
      ],
      "text/plain": [
       "  Taken inputs from seniors or elders interested in games  \\\n",
       "0                                  no                  no   \n",
       "1                                 yes                 yes   \n",
       "2                                 yes                 yes   \n",
       "3                                  no                  no   \n",
       "4                                  no                 yes   \n",
       "\n",
       "  Gentle or Tuff behaviour Management or Technical hardsmart worker  \\\n",
       "0                 stubborn              Management      hard worker   \n",
       "1                   gentle               Technical      hard worker   \n",
       "2                 stubborn              Management      hard worker   \n",
       "3                   gentle              Management     smart worker   \n",
       "4                 stubborn              Management      hard worker   \n",
       "\n",
       "  worked in teams ever  \n",
       "0                  yes  \n",
       "1                   no  \n",
       "2                   no  \n",
       "3                  yes  \n",
       "4                  yes  "
      ]
     },
     "execution_count": 39,
     "metadata": {},
     "output_type": "execute_result"
    }
   ],
   "source": [
    "teamwork_data_r.head()"
   ]
  },
  {
   "cell_type": "code",
   "execution_count": 40,
   "metadata": {},
   "outputs": [],
   "source": [
    "teamwork_data=data[:,[27,28,32,33,35,36]]"
   ]
  },
  {
   "cell_type": "code",
   "execution_count": 41,
   "metadata": {},
   "outputs": [
    {
     "data": {
      "text/plain": [
       "array([[0, 0, 1, 0, 0, 1],\n",
       "       [1, 1, 0, 1, 0, 0],\n",
       "       [1, 1, 1, 0, 0, 0],\n",
       "       ...,\n",
       "       [1, 1, 0, 1, 0, 0],\n",
       "       [1, 0, 0, 0, 1, 1],\n",
       "       [1, 0, 0, 0, 0, 1]], dtype=object)"
      ]
     },
     "execution_count": 41,
     "metadata": {},
     "output_type": "execute_result"
    }
   ],
   "source": [
    "teamwork_data"
   ]
  },
  {
   "cell_type": "code",
   "execution_count": 42,
   "metadata": {},
   "outputs": [
    {
     "data": {
      "text/plain": [
       "(20000, 6)"
      ]
     },
     "execution_count": 42,
     "metadata": {},
     "output_type": "execute_result"
    }
   ],
   "source": [
    "teamwork_data.shape"
   ]
  },
  {
   "cell_type": "code",
   "execution_count": 43,
   "metadata": {},
   "outputs": [],
   "source": [
    "teamwork_percentage=np.sum(teamwork_data, axis = 1, keepdims = True)"
   ]
  },
  {
   "cell_type": "code",
   "execution_count": 44,
   "metadata": {},
   "outputs": [],
   "source": [
    "teamwork_percentage=np.true_divide(teamwork_percentage,6)"
   ]
  },
  {
   "cell_type": "code",
   "execution_count": 45,
   "metadata": {},
   "outputs": [],
   "source": [
    "teamwork_percentage=np.multiply(teamwork_percentage,100)"
   ]
  },
  {
   "cell_type": "code",
   "execution_count": 46,
   "metadata": {},
   "outputs": [
    {
     "data": {
      "text/plain": [
       "array([[33.33333333333333],\n",
       "       [50.0],\n",
       "       [50.0],\n",
       "       ...,\n",
       "       [50.0],\n",
       "       [50.0],\n",
       "       [33.33333333333333]], dtype=object)"
      ]
     },
     "execution_count": 46,
     "metadata": {},
     "output_type": "execute_result"
    }
   ],
   "source": [
    "teamwork_percentage"
   ]
  },
  {
   "cell_type": "markdown",
   "metadata": {},
   "source": [
    "# problem_solving_data"
   ]
  },
  {
   "cell_type": "code",
   "execution_count": 47,
   "metadata": {},
   "outputs": [],
   "source": [
    "problem_solving_data_r=dataset.iloc[:,[10,11,12,19,22,20]]"
   ]
  },
  {
   "cell_type": "code",
   "execution_count": 48,
   "metadata": {},
   "outputs": [
    {
     "data": {
      "text/html": [
       "<div>\n",
       "<style scoped>\n",
       "    .dataframe tbody tr th:only-of-type {\n",
       "        vertical-align: middle;\n",
       "    }\n",
       "\n",
       "    .dataframe tbody tr th {\n",
       "        vertical-align: top;\n",
       "    }\n",
       "\n",
       "    .dataframe thead th {\n",
       "        text-align: right;\n",
       "    }\n",
       "</style>\n",
       "<table border=\"1\" class=\"dataframe\">\n",
       "  <thead>\n",
       "    <tr style=\"text-align: right;\">\n",
       "      <th></th>\n",
       "      <th>Logical quotient rating</th>\n",
       "      <th>hackathons</th>\n",
       "      <th>coding skills rating</th>\n",
       "      <th>talenttests taken</th>\n",
       "      <th>memory capability score</th>\n",
       "      <th>olympiads</th>\n",
       "    </tr>\n",
       "  </thead>\n",
       "  <tbody>\n",
       "    <tr>\n",
       "      <th>0</th>\n",
       "      <td>4</td>\n",
       "      <td>0</td>\n",
       "      <td>4</td>\n",
       "      <td>no</td>\n",
       "      <td>excellent</td>\n",
       "      <td>yes</td>\n",
       "    </tr>\n",
       "    <tr>\n",
       "      <th>1</th>\n",
       "      <td>7</td>\n",
       "      <td>1</td>\n",
       "      <td>2</td>\n",
       "      <td>no</td>\n",
       "      <td>medium</td>\n",
       "      <td>no</td>\n",
       "    </tr>\n",
       "    <tr>\n",
       "      <th>2</th>\n",
       "      <td>1</td>\n",
       "      <td>4</td>\n",
       "      <td>1</td>\n",
       "      <td>no</td>\n",
       "      <td>excellent</td>\n",
       "      <td>yes</td>\n",
       "    </tr>\n",
       "    <tr>\n",
       "      <th>3</th>\n",
       "      <td>1</td>\n",
       "      <td>1</td>\n",
       "      <td>2</td>\n",
       "      <td>yes</td>\n",
       "      <td>excellent</td>\n",
       "      <td>no</td>\n",
       "    </tr>\n",
       "    <tr>\n",
       "      <th>4</th>\n",
       "      <td>5</td>\n",
       "      <td>4</td>\n",
       "      <td>6</td>\n",
       "      <td>no</td>\n",
       "      <td>excellent</td>\n",
       "      <td>no</td>\n",
       "    </tr>\n",
       "    <tr>\n",
       "      <th>5</th>\n",
       "      <td>5</td>\n",
       "      <td>3</td>\n",
       "      <td>8</td>\n",
       "      <td>no</td>\n",
       "      <td>medium</td>\n",
       "      <td>no</td>\n",
       "    </tr>\n",
       "    <tr>\n",
       "      <th>6</th>\n",
       "      <td>3</td>\n",
       "      <td>2</td>\n",
       "      <td>3</td>\n",
       "      <td>no</td>\n",
       "      <td>poor</td>\n",
       "      <td>no</td>\n",
       "    </tr>\n",
       "    <tr>\n",
       "      <th>7</th>\n",
       "      <td>2</td>\n",
       "      <td>1</td>\n",
       "      <td>6</td>\n",
       "      <td>no</td>\n",
       "      <td>excellent</td>\n",
       "      <td>yes</td>\n",
       "    </tr>\n",
       "    <tr>\n",
       "      <th>8</th>\n",
       "      <td>5</td>\n",
       "      <td>2</td>\n",
       "      <td>4</td>\n",
       "      <td>yes</td>\n",
       "      <td>poor</td>\n",
       "      <td>no</td>\n",
       "    </tr>\n",
       "    <tr>\n",
       "      <th>9</th>\n",
       "      <td>9</td>\n",
       "      <td>0</td>\n",
       "      <td>5</td>\n",
       "      <td>yes</td>\n",
       "      <td>poor</td>\n",
       "      <td>yes</td>\n",
       "    </tr>\n",
       "  </tbody>\n",
       "</table>\n",
       "</div>"
      ],
      "text/plain": [
       "   Logical quotient rating  hackathons  coding skills rating  \\\n",
       "0                        4           0                     4   \n",
       "1                        7           1                     2   \n",
       "2                        1           4                     1   \n",
       "3                        1           1                     2   \n",
       "4                        5           4                     6   \n",
       "5                        5           3                     8   \n",
       "6                        3           2                     3   \n",
       "7                        2           1                     6   \n",
       "8                        5           2                     4   \n",
       "9                        9           0                     5   \n",
       "\n",
       "  talenttests taken memory capability score olympiads  \n",
       "0                no               excellent       yes  \n",
       "1                no                  medium        no  \n",
       "2                no               excellent       yes  \n",
       "3               yes               excellent        no  \n",
       "4                no               excellent        no  \n",
       "5                no                  medium        no  \n",
       "6                no                    poor        no  \n",
       "7                no               excellent       yes  \n",
       "8               yes                    poor        no  \n",
       "9               yes                    poor       yes  "
      ]
     },
     "execution_count": 48,
     "metadata": {},
     "output_type": "execute_result"
    }
   ],
   "source": [
    "problem_solving_data_r.head(n=10)"
   ]
  },
  {
   "cell_type": "code",
   "execution_count": 49,
   "metadata": {},
   "outputs": [],
   "source": [
    "problem_solving_data=data[:,[10,11,12,19,22,20]]"
   ]
  },
  {
   "cell_type": "code",
   "execution_count": 50,
   "metadata": {},
   "outputs": [
    {
     "data": {
      "text/plain": [
       "array([[4, 0, 4, 0, 0, 1],\n",
       "       [7, 1, 2, 0, 1, 0],\n",
       "       [1, 4, 1, 0, 0, 1],\n",
       "       ...,\n",
       "       [3, 6, 2, 1, 0, 1],\n",
       "       [1, 4, 9, 0, 2, 1],\n",
       "       [3, 1, 7, 0, 0, 1]], dtype=object)"
      ]
     },
     "execution_count": 50,
     "metadata": {},
     "output_type": "execute_result"
    }
   ],
   "source": [
    "problem_solving_data"
   ]
  },
  {
   "cell_type": "code",
   "execution_count": 51,
   "metadata": {},
   "outputs": [
    {
     "data": {
      "text/plain": [
       "(20000, 6)"
      ]
     },
     "execution_count": 51,
     "metadata": {},
     "output_type": "execute_result"
    }
   ],
   "source": [
    "problem_solving_data.shape"
   ]
  },
  {
   "cell_type": "code",
   "execution_count": 52,
   "metadata": {},
   "outputs": [],
   "source": [
    "problem_solving_percentage=np.sum(problem_solving_data,axis=1,keepdims=True)"
   ]
  },
  {
   "cell_type": "code",
   "execution_count": 53,
   "metadata": {},
   "outputs": [
    {
     "data": {
      "text/plain": [
       "array([[9],\n",
       "       [11],\n",
       "       [7],\n",
       "       ...,\n",
       "       [13],\n",
       "       [17],\n",
       "       [12]], dtype=object)"
      ]
     },
     "execution_count": 53,
     "metadata": {},
     "output_type": "execute_result"
    }
   ],
   "source": [
    "problem_solving_percentage"
   ]
  },
  {
   "cell_type": "code",
   "execution_count": 77,
   "metadata": {},
   "outputs": [
    {
     "data": {
      "text/plain": [
       "9"
      ]
     },
     "execution_count": 77,
     "metadata": {},
     "output_type": "execute_result"
    }
   ],
   "source": [
    "np.amax(problem_solving_data[:,2])"
   ]
  },
  {
   "cell_type": "code",
   "execution_count": 78,
   "metadata": {},
   "outputs": [],
   "source": [
    "problem_solving_percentage=np.true_divide(problem_solving_percentage,37)"
   ]
  },
  {
   "cell_type": "code",
   "execution_count": 79,
   "metadata": {},
   "outputs": [],
   "source": [
    "problem_solving_percentage=np.multiply(problem_solving_percentage,100)"
   ]
  },
  {
   "cell_type": "code",
   "execution_count": 80,
   "metadata": {},
   "outputs": [
    {
     "data": {
      "text/plain": [
       "array([[24.324324324324326],\n",
       "       [29.72972972972973],\n",
       "       [18.91891891891892],\n",
       "       ...,\n",
       "       [35.13513513513514],\n",
       "       [45.94594594594595],\n",
       "       [32.432432432432435]], dtype=object)"
      ]
     },
     "execution_count": 80,
     "metadata": {},
     "output_type": "execute_result"
    }
   ],
   "source": [
    "problem_solving_percentage"
   ]
  },
  {
   "cell_type": "markdown",
   "metadata": {},
   "source": [
    "# self_managment_data"
   ]
  },
  {
   "cell_type": "code",
   "execution_count": 54,
   "metadata": {},
   "outputs": [],
   "source": [
    "self_managment_data_r=dataset.iloc[:,[14,15,29,31,33,34,37]]"
   ]
  },
  {
   "cell_type": "code",
   "execution_count": 55,
   "metadata": {},
   "outputs": [
    {
     "data": {
      "text/html": [
       "<div>\n",
       "<style scoped>\n",
       "    .dataframe tbody tr th:only-of-type {\n",
       "        vertical-align: middle;\n",
       "    }\n",
       "\n",
       "    .dataframe tbody tr th {\n",
       "        vertical-align: top;\n",
       "    }\n",
       "\n",
       "    .dataframe thead th {\n",
       "        text-align: right;\n",
       "    }\n",
       "</style>\n",
       "<table border=\"1\" class=\"dataframe\">\n",
       "  <thead>\n",
       "    <tr style=\"text-align: right;\">\n",
       "      <th></th>\n",
       "      <th>can work long time before system</th>\n",
       "      <th>self-learning capability</th>\n",
       "      <th>Interested Type of Books</th>\n",
       "      <th>In a Realtionship</th>\n",
       "      <th>Management or Technical</th>\n",
       "      <th>Salarywork</th>\n",
       "      <th>Introvert</th>\n",
       "    </tr>\n",
       "  </thead>\n",
       "  <tbody>\n",
       "    <tr>\n",
       "      <th>0</th>\n",
       "      <td>yes</td>\n",
       "      <td>yes</td>\n",
       "      <td>Prayer books</td>\n",
       "      <td>no</td>\n",
       "      <td>Management</td>\n",
       "      <td>salary</td>\n",
       "      <td>no</td>\n",
       "    </tr>\n",
       "    <tr>\n",
       "      <th>1</th>\n",
       "      <td>yes</td>\n",
       "      <td>no</td>\n",
       "      <td>Childrens</td>\n",
       "      <td>yes</td>\n",
       "      <td>Technical</td>\n",
       "      <td>salary</td>\n",
       "      <td>yes</td>\n",
       "    </tr>\n",
       "    <tr>\n",
       "      <th>2</th>\n",
       "      <td>yes</td>\n",
       "      <td>no</td>\n",
       "      <td>Travel</td>\n",
       "      <td>no</td>\n",
       "      <td>Management</td>\n",
       "      <td>work</td>\n",
       "      <td>yes</td>\n",
       "    </tr>\n",
       "    <tr>\n",
       "      <th>3</th>\n",
       "      <td>no</td>\n",
       "      <td>yes</td>\n",
       "      <td>Romance</td>\n",
       "      <td>yes</td>\n",
       "      <td>Management</td>\n",
       "      <td>work</td>\n",
       "      <td>yes</td>\n",
       "    </tr>\n",
       "    <tr>\n",
       "      <th>4</th>\n",
       "      <td>no</td>\n",
       "      <td>no</td>\n",
       "      <td>Cookbooks</td>\n",
       "      <td>no</td>\n",
       "      <td>Management</td>\n",
       "      <td>work</td>\n",
       "      <td>yes</td>\n",
       "    </tr>\n",
       "  </tbody>\n",
       "</table>\n",
       "</div>"
      ],
      "text/plain": [
       "  can work long time before system self-learning capability  \\\n",
       "0                              yes                      yes   \n",
       "1                              yes                       no   \n",
       "2                              yes                       no   \n",
       "3                               no                      yes   \n",
       "4                               no                       no   \n",
       "\n",
       "  Interested Type of Books In a Realtionship Management or Technical  \\\n",
       "0             Prayer books                no              Management   \n",
       "1                Childrens               yes               Technical   \n",
       "2                   Travel                no              Management   \n",
       "3                  Romance               yes              Management   \n",
       "4                Cookbooks                no              Management   \n",
       "\n",
       "  Salarywork Introvert  \n",
       "0     salary        no  \n",
       "1     salary       yes  \n",
       "2       work       yes  \n",
       "3       work       yes  \n",
       "4       work       yes  "
      ]
     },
     "execution_count": 55,
     "metadata": {},
     "output_type": "execute_result"
    }
   ],
   "source": [
    "self_managment_data_r.head()"
   ]
  },
  {
   "cell_type": "code",
   "execution_count": 56,
   "metadata": {},
   "outputs": [],
   "source": [
    "self_managment_data=data[:,[14,15,29,31,33,34,37]]"
   ]
  },
  {
   "cell_type": "code",
   "execution_count": 57,
   "metadata": {},
   "outputs": [
    {
     "data": {
      "text/plain": [
       "array([[1, 1, 21, ..., 0, 0, 0],\n",
       "       [1, 0, 5, ..., 1, 0, 1],\n",
       "       [1, 0, 29, ..., 0, 1, 1],\n",
       "       ...,\n",
       "       [1, 1, 10, ..., 1, 1, 1],\n",
       "       [0, 0, 29, ..., 0, 1, 0],\n",
       "       [1, 1, 6, ..., 0, 1, 0]], dtype=object)"
      ]
     },
     "execution_count": 57,
     "metadata": {},
     "output_type": "execute_result"
    }
   ],
   "source": [
    "self_managment_data"
   ]
  },
  {
   "cell_type": "code",
   "execution_count": 58,
   "metadata": {},
   "outputs": [
    {
     "data": {
      "text/plain": [
       "(20000, 7)"
      ]
     },
     "execution_count": 58,
     "metadata": {},
     "output_type": "execute_result"
    }
   ],
   "source": [
    "self_managment_data.shape"
   ]
  },
  {
   "cell_type": "code",
   "execution_count": 81,
   "metadata": {},
   "outputs": [
    {
     "data": {
      "text/plain": [
       "30"
      ]
     },
     "execution_count": 81,
     "metadata": {},
     "output_type": "execute_result"
    }
   ],
   "source": [
    "np.amax(self_managment_data[:,2])"
   ]
  },
  {
   "cell_type": "code",
   "execution_count": 82,
   "metadata": {},
   "outputs": [
    {
     "data": {
      "text/plain": [
       "1"
      ]
     },
     "execution_count": 82,
     "metadata": {},
     "output_type": "execute_result"
    }
   ],
   "source": [
    "np.amax(self_managment_data[:,4])"
   ]
  },
  {
   "cell_type": "code",
   "execution_count": 83,
   "metadata": {},
   "outputs": [
    {
     "data": {
      "text/plain": [
       "1"
      ]
     },
     "execution_count": 83,
     "metadata": {},
     "output_type": "execute_result"
    }
   ],
   "source": [
    "np.amax(self_managment_data[:,5])"
   ]
  },
  {
   "cell_type": "code",
   "execution_count": 106,
   "metadata": {},
   "outputs": [],
   "source": [
    "self_managment_percentage=np.sum(self_managment_data,axis=1,keepdims=True)"
   ]
  },
  {
   "cell_type": "code",
   "execution_count": 107,
   "metadata": {},
   "outputs": [
    {
     "data": {
      "text/plain": [
       "array([[23],\n",
       "       [9],\n",
       "       [32],\n",
       "       ...,\n",
       "       [16],\n",
       "       [30],\n",
       "       [9]], dtype=object)"
      ]
     },
     "execution_count": 107,
     "metadata": {},
     "output_type": "execute_result"
    }
   ],
   "source": [
    "self_managment_percentage"
   ]
  },
  {
   "cell_type": "code",
   "execution_count": 108,
   "metadata": {},
   "outputs": [],
   "source": [
    "self_managment_percentage=np.true_divide(self_managment_percentage,36)"
   ]
  },
  {
   "cell_type": "code",
   "execution_count": 109,
   "metadata": {},
   "outputs": [
    {
     "data": {
      "text/plain": [
       "array([[0.6388888888888888],\n",
       "       [0.25],\n",
       "       [0.8888888888888888],\n",
       "       ...,\n",
       "       [0.4444444444444444],\n",
       "       [0.8333333333333334],\n",
       "       [0.25]], dtype=object)"
      ]
     },
     "execution_count": 109,
     "metadata": {},
     "output_type": "execute_result"
    }
   ],
   "source": [
    "self_managment_percentage"
   ]
  },
  {
   "cell_type": "code",
   "execution_count": 110,
   "metadata": {},
   "outputs": [],
   "source": [
    "self_managment_percentage=np.multiply(self_managment_percentage,100)"
   ]
  },
  {
   "cell_type": "code",
   "execution_count": 111,
   "metadata": {},
   "outputs": [
    {
     "data": {
      "text/plain": [
       "array([[63.888888888888886],\n",
       "       [25.0],\n",
       "       [88.88888888888889],\n",
       "       ...,\n",
       "       [44.44444444444444],\n",
       "       [83.33333333333334],\n",
       "       [25.0]], dtype=object)"
      ]
     },
     "execution_count": 111,
     "metadata": {},
     "output_type": "execute_result"
    }
   ],
   "source": [
    "self_managment_percentage"
   ]
  },
  {
   "cell_type": "code",
   "execution_count": null,
   "metadata": {},
   "outputs": [],
   "source": []
  },
  {
   "cell_type": "markdown",
   "metadata": {},
   "source": [
    "## Knowledge_data"
   ]
  },
  {
   "cell_type": "code",
   "execution_count": 59,
   "metadata": {},
   "outputs": [],
   "source": [
    "knowledge_data_r=dataset.iloc[:,[16,17,18,23]]"
   ]
  },
  {
   "cell_type": "code",
   "execution_count": 60,
   "metadata": {},
   "outputs": [
    {
     "data": {
      "text/html": [
       "<div>\n",
       "<style scoped>\n",
       "    .dataframe tbody tr th:only-of-type {\n",
       "        vertical-align: middle;\n",
       "    }\n",
       "\n",
       "    .dataframe tbody tr th {\n",
       "        vertical-align: top;\n",
       "    }\n",
       "\n",
       "    .dataframe thead th {\n",
       "        text-align: right;\n",
       "    }\n",
       "</style>\n",
       "<table border=\"1\" class=\"dataframe\">\n",
       "  <thead>\n",
       "    <tr style=\"text-align: right;\">\n",
       "      <th></th>\n",
       "      <th>Extra-courses did</th>\n",
       "      <th>certifications</th>\n",
       "      <th>workshops</th>\n",
       "      <th>Interested subjects</th>\n",
       "    </tr>\n",
       "  </thead>\n",
       "  <tbody>\n",
       "    <tr>\n",
       "      <th>0</th>\n",
       "      <td>yes</td>\n",
       "      <td>shell programming</td>\n",
       "      <td>cloud computing</td>\n",
       "      <td>cloud computing</td>\n",
       "    </tr>\n",
       "    <tr>\n",
       "      <th>1</th>\n",
       "      <td>yes</td>\n",
       "      <td>machine learning</td>\n",
       "      <td>database security</td>\n",
       "      <td>networks</td>\n",
       "    </tr>\n",
       "    <tr>\n",
       "      <th>2</th>\n",
       "      <td>yes</td>\n",
       "      <td>app development</td>\n",
       "      <td>web technologies</td>\n",
       "      <td>hacking</td>\n",
       "    </tr>\n",
       "    <tr>\n",
       "      <th>3</th>\n",
       "      <td>no</td>\n",
       "      <td>python</td>\n",
       "      <td>data science</td>\n",
       "      <td>networks</td>\n",
       "    </tr>\n",
       "    <tr>\n",
       "      <th>4</th>\n",
       "      <td>no</td>\n",
       "      <td>app development</td>\n",
       "      <td>cloud computing</td>\n",
       "      <td>Computer Architecture</td>\n",
       "    </tr>\n",
       "  </tbody>\n",
       "</table>\n",
       "</div>"
      ],
      "text/plain": [
       "  Extra-courses did     certifications          workshops  \\\n",
       "0               yes  shell programming    cloud computing   \n",
       "1               yes   machine learning  database security   \n",
       "2               yes    app development   web technologies   \n",
       "3                no             python       data science   \n",
       "4                no    app development    cloud computing   \n",
       "\n",
       "     Interested subjects  \n",
       "0        cloud computing  \n",
       "1               networks  \n",
       "2                hacking  \n",
       "3               networks  \n",
       "4  Computer Architecture  "
      ]
     },
     "execution_count": 60,
     "metadata": {},
     "output_type": "execute_result"
    }
   ],
   "source": [
    "knowledge_data_r.head()"
   ]
  },
  {
   "cell_type": "code",
   "execution_count": 61,
   "metadata": {},
   "outputs": [],
   "source": [
    "knowledge_data=data[:,[16,17,18,23]]"
   ]
  },
  {
   "cell_type": "code",
   "execution_count": 62,
   "metadata": {},
   "outputs": [
    {
     "data": {
      "text/plain": [
       "array([[1, 8, 0, 4],\n",
       "       [1, 5, 2, 7],\n",
       "       [1, 0, 7, 6],\n",
       "       ...,\n",
       "       [1, 4, 2, 7],\n",
       "       [0, 2, 0, 1],\n",
       "       [1, 0, 2, 1]], dtype=object)"
      ]
     },
     "execution_count": 62,
     "metadata": {},
     "output_type": "execute_result"
    }
   ],
   "source": [
    "knowledge_data"
   ]
  },
  {
   "cell_type": "code",
   "execution_count": 63,
   "metadata": {},
   "outputs": [
    {
     "data": {
      "text/plain": [
       "(20000, 4)"
      ]
     },
     "execution_count": 63,
     "metadata": {},
     "output_type": "execute_result"
    }
   ],
   "source": [
    "knowledge_data.shape"
   ]
  },
  {
   "cell_type": "code",
   "execution_count": 113,
   "metadata": {},
   "outputs": [
    {
     "data": {
      "text/plain": [
       "8"
      ]
     },
     "execution_count": 113,
     "metadata": {},
     "output_type": "execute_result"
    }
   ],
   "source": [
    "np.amax(knowledge_data[:,1])"
   ]
  },
  {
   "cell_type": "code",
   "execution_count": 114,
   "metadata": {},
   "outputs": [
    {
     "data": {
      "text/plain": [
       "7"
      ]
     },
     "execution_count": 114,
     "metadata": {},
     "output_type": "execute_result"
    }
   ],
   "source": [
    "np.amax(knowledge_data[:,2])"
   ]
  },
  {
   "cell_type": "code",
   "execution_count": 116,
   "metadata": {},
   "outputs": [
    {
     "data": {
      "text/plain": [
       "9"
      ]
     },
     "execution_count": 116,
     "metadata": {},
     "output_type": "execute_result"
    }
   ],
   "source": [
    "np.amax(knowledge_data[:,3])"
   ]
  },
  {
   "cell_type": "code",
   "execution_count": 118,
   "metadata": {},
   "outputs": [],
   "source": [
    "knowledge_percentage=np.sum(knowledge_data,axis=1,keepdims=True)"
   ]
  },
  {
   "cell_type": "code",
   "execution_count": 119,
   "metadata": {},
   "outputs": [
    {
     "data": {
      "text/plain": [
       "array([[13],\n",
       "       [15],\n",
       "       [14],\n",
       "       ...,\n",
       "       [14],\n",
       "       [3],\n",
       "       [4]], dtype=object)"
      ]
     },
     "execution_count": 119,
     "metadata": {},
     "output_type": "execute_result"
    }
   ],
   "source": [
    "knowledge_percentage"
   ]
  },
  {
   "cell_type": "code",
   "execution_count": 120,
   "metadata": {},
   "outputs": [],
   "source": [
    "knowledge_percentage=np.true_divide(knowledge_percentage,26)"
   ]
  },
  {
   "cell_type": "code",
   "execution_count": 122,
   "metadata": {},
   "outputs": [],
   "source": [
    "knowledge_percentage=np.multiply(knowledge_percentage,100)"
   ]
  },
  {
   "cell_type": "code",
   "execution_count": 123,
   "metadata": {},
   "outputs": [
    {
     "data": {
      "text/plain": [
       "array([[50.0],\n",
       "       [57.692307692307686],\n",
       "       [53.84615384615385],\n",
       "       ...,\n",
       "       [53.84615384615385],\n",
       "       [11.538461538461538],\n",
       "       [15.384615384615385]], dtype=object)"
      ]
     },
     "execution_count": 123,
     "metadata": {},
     "output_type": "execute_result"
    }
   ],
   "source": [
    "knowledge_percentage"
   ]
  },
  {
   "cell_type": "markdown",
   "metadata": {},
   "source": [
    "## Interests_data"
   ]
  },
  {
   "cell_type": "code",
   "execution_count": 64,
   "metadata": {},
   "outputs": [],
   "source": [
    "interests_data_r=dataset.iloc[:,[24,25,26,29,30]]"
   ]
  },
  {
   "cell_type": "code",
   "execution_count": 65,
   "metadata": {},
   "outputs": [
    {
     "data": {
      "text/html": [
       "<div>\n",
       "<style scoped>\n",
       "    .dataframe tbody tr th:only-of-type {\n",
       "        vertical-align: middle;\n",
       "    }\n",
       "\n",
       "    .dataframe tbody tr th {\n",
       "        vertical-align: top;\n",
       "    }\n",
       "\n",
       "    .dataframe thead th {\n",
       "        text-align: right;\n",
       "    }\n",
       "</style>\n",
       "<table border=\"1\" class=\"dataframe\">\n",
       "  <thead>\n",
       "    <tr style=\"text-align: right;\">\n",
       "      <th></th>\n",
       "      <th>interested career area</th>\n",
       "      <th>JobHigher Studies</th>\n",
       "      <th>Type of company want to settle in</th>\n",
       "      <th>Interested Type of Books</th>\n",
       "      <th>Salary Range Expected</th>\n",
       "    </tr>\n",
       "  </thead>\n",
       "  <tbody>\n",
       "    <tr>\n",
       "      <th>0</th>\n",
       "      <td>system developer</td>\n",
       "      <td>higherstudies</td>\n",
       "      <td>Web Services</td>\n",
       "      <td>Prayer books</td>\n",
       "      <td>salary</td>\n",
       "    </tr>\n",
       "    <tr>\n",
       "      <th>1</th>\n",
       "      <td>Business process analyst</td>\n",
       "      <td>job</td>\n",
       "      <td>SAaS services</td>\n",
       "      <td>Childrens</td>\n",
       "      <td>salary</td>\n",
       "    </tr>\n",
       "    <tr>\n",
       "      <th>2</th>\n",
       "      <td>developer</td>\n",
       "      <td>higherstudies</td>\n",
       "      <td>Sales and Marketing</td>\n",
       "      <td>Travel</td>\n",
       "      <td>Work</td>\n",
       "    </tr>\n",
       "    <tr>\n",
       "      <th>3</th>\n",
       "      <td>testing</td>\n",
       "      <td>higherstudies</td>\n",
       "      <td>Testing and Maintainance Services</td>\n",
       "      <td>Romance</td>\n",
       "      <td>Work</td>\n",
       "    </tr>\n",
       "    <tr>\n",
       "      <th>4</th>\n",
       "      <td>testing</td>\n",
       "      <td>higherstudies</td>\n",
       "      <td>product development</td>\n",
       "      <td>Cookbooks</td>\n",
       "      <td>salary</td>\n",
       "    </tr>\n",
       "  </tbody>\n",
       "</table>\n",
       "</div>"
      ],
      "text/plain": [
       "    interested career area  JobHigher Studies  \\\n",
       "0          system developer     higherstudies   \n",
       "1  Business process analyst               job   \n",
       "2                 developer     higherstudies   \n",
       "3                   testing     higherstudies   \n",
       "4                   testing     higherstudies   \n",
       "\n",
       "   Type of company want to settle in Interested Type of Books  \\\n",
       "0                       Web Services             Prayer books   \n",
       "1                      SAaS services                Childrens   \n",
       "2                Sales and Marketing                   Travel   \n",
       "3  Testing and Maintainance Services                  Romance   \n",
       "4                product development                Cookbooks   \n",
       "\n",
       "  Salary Range Expected  \n",
       "0                salary  \n",
       "1                salary  \n",
       "2                  Work  \n",
       "3                  Work  \n",
       "4                salary  "
      ]
     },
     "execution_count": 65,
     "metadata": {},
     "output_type": "execute_result"
    }
   ],
   "source": [
    "interests_data_r.head()"
   ]
  },
  {
   "cell_type": "code",
   "execution_count": 66,
   "metadata": {},
   "outputs": [],
   "source": [
    "interests_data=data[:,[24,25,26,29,30]]"
   ]
  },
  {
   "cell_type": "code",
   "execution_count": 67,
   "metadata": {},
   "outputs": [
    {
     "data": {
      "text/plain": [
       "array([[4, 0, 8, 21, 1],\n",
       "       [0, 1, 4, 5, 1],\n",
       "       [2, 0, 5, 29, 0],\n",
       "       ...,\n",
       "       [1, 0, 4, 10, 0],\n",
       "       [5, 1, 1, 29, 0],\n",
       "       [5, 1, 2, 6, 0]], dtype=object)"
      ]
     },
     "execution_count": 67,
     "metadata": {},
     "output_type": "execute_result"
    }
   ],
   "source": [
    "interests_data"
   ]
  },
  {
   "cell_type": "code",
   "execution_count": 68,
   "metadata": {},
   "outputs": [
    {
     "data": {
      "text/plain": [
       "(20000, 5)"
      ]
     },
     "execution_count": 68,
     "metadata": {},
     "output_type": "execute_result"
    }
   ],
   "source": [
    "interests_data.shape"
   ]
  },
  {
   "cell_type": "code",
   "execution_count": 124,
   "metadata": {},
   "outputs": [
    {
     "data": {
      "text/plain": [
       "5"
      ]
     },
     "execution_count": 124,
     "metadata": {},
     "output_type": "execute_result"
    }
   ],
   "source": [
    "np.amax(interests_data[:,0])"
   ]
  },
  {
   "cell_type": "code",
   "execution_count": 125,
   "metadata": {},
   "outputs": [
    {
     "data": {
      "text/plain": [
       "1"
      ]
     },
     "execution_count": 125,
     "metadata": {},
     "output_type": "execute_result"
    }
   ],
   "source": [
    "np.amax(interests_data[:,1])"
   ]
  },
  {
   "cell_type": "code",
   "execution_count": 126,
   "metadata": {},
   "outputs": [
    {
     "data": {
      "text/plain": [
       "9"
      ]
     },
     "execution_count": 126,
     "metadata": {},
     "output_type": "execute_result"
    }
   ],
   "source": [
    "np.amax(interests_data[:,2])"
   ]
  },
  {
   "cell_type": "code",
   "execution_count": 127,
   "metadata": {},
   "outputs": [
    {
     "data": {
      "text/plain": [
       "30"
      ]
     },
     "execution_count": 127,
     "metadata": {},
     "output_type": "execute_result"
    }
   ],
   "source": [
    "np.amax(interests_data[:,3])"
   ]
  },
  {
   "cell_type": "code",
   "execution_count": 128,
   "metadata": {},
   "outputs": [
    {
     "data": {
      "text/plain": [
       "1"
      ]
     },
     "execution_count": 128,
     "metadata": {},
     "output_type": "execute_result"
    }
   ],
   "source": [
    "np.amax(interests_data[:,4])"
   ]
  },
  {
   "cell_type": "code",
   "execution_count": 131,
   "metadata": {},
   "outputs": [],
   "source": [
    "interests_percentage=np.sum(interests_data,axis=1, keepdims= True)"
   ]
  },
  {
   "cell_type": "code",
   "execution_count": 132,
   "metadata": {},
   "outputs": [
    {
     "data": {
      "text/plain": [
       "array([[34],\n",
       "       [11],\n",
       "       [36],\n",
       "       ...,\n",
       "       [15],\n",
       "       [36],\n",
       "       [14]], dtype=object)"
      ]
     },
     "execution_count": 132,
     "metadata": {},
     "output_type": "execute_result"
    }
   ],
   "source": [
    "interests_percentage"
   ]
  },
  {
   "cell_type": "code",
   "execution_count": 133,
   "metadata": {},
   "outputs": [],
   "source": [
    "interests_percentage=np.true_divide(interests_percentage,48)"
   ]
  },
  {
   "cell_type": "code",
   "execution_count": 135,
   "metadata": {},
   "outputs": [],
   "source": [
    "interests_percentage=np.multiply(interests_percentage,100)"
   ]
  },
  {
   "cell_type": "code",
   "execution_count": 136,
   "metadata": {},
   "outputs": [
    {
     "data": {
      "text/plain": [
       "array([[70.83333333333334],\n",
       "       [22.916666666666664],\n",
       "       [75.0],\n",
       "       ...,\n",
       "       [31.25],\n",
       "       [75.0],\n",
       "       [29.166666666666668]], dtype=object)"
      ]
     },
     "execution_count": 136,
     "metadata": {},
     "output_type": "execute_result"
    }
   ],
   "source": [
    "interests_percentage"
   ]
  },
  {
   "cell_type": "markdown",
   "metadata": {},
   "source": [
    "## Concatenate arrays"
   ]
  },
  {
   "cell_type": "code",
   "execution_count": 157,
   "metadata": {},
   "outputs": [],
   "source": [
    "combine_data=np.concatenate((academic_data,academic_percentage,communication_percentage,teamwork_percentage,problem_solving_percentage,self_managment_percentage,knowledge_percentage,interests_percentage),axis=1)"
   ]
  },
  {
   "cell_type": "code",
   "execution_count": 160,
   "metadata": {},
   "outputs": [
    {
     "data": {
      "text/plain": [
       "(20000, 16)"
      ]
     },
     "execution_count": 160,
     "metadata": {},
     "output_type": "execute_result"
    }
   ],
   "source": [
    "combine_data.shape"
   ]
  },
  {
   "cell_type": "code",
   "execution_count": 163,
   "metadata": {},
   "outputs": [],
   "source": [
    "X1 = pd.DataFrame(combine_data,columns=['Acedamic percentage in Operating Systems', \n",
    "                                        'percentage in Algorithms',\n",
    "                                        'Percentage in Programming Concepts',\n",
    "                                        'Percentage in Software Engineering', \n",
    "                                        'Percentage in Computer Networks',\n",
    "                                        'Percentage in Electronics Subjects',\n",
    "                                        'Percentage in Computer Architecture',\n",
    "                                        'Percentage in Mathematics',\n",
    "                                        'Percentage in Communication skills',\n",
    "                                        'academic_percentage',\n",
    "                                        'communication_percentage',\n",
    "                                        'teamwork_percentage',\n",
    "                                        'problem_solving_percentage',\n",
    "                                        'self_managment_percentage',\n",
    "                                        'knowledge_percentage',\n",
    "                                        'interests_percentage'])"
   ]
  },
  {
   "cell_type": "code",
   "execution_count": 164,
   "metadata": {},
   "outputs": [
    {
     "data": {
      "text/html": [
       "<div>\n",
       "<style scoped>\n",
       "    .dataframe tbody tr th:only-of-type {\n",
       "        vertical-align: middle;\n",
       "    }\n",
       "\n",
       "    .dataframe tbody tr th {\n",
       "        vertical-align: top;\n",
       "    }\n",
       "\n",
       "    .dataframe thead th {\n",
       "        text-align: right;\n",
       "    }\n",
       "</style>\n",
       "<table border=\"1\" class=\"dataframe\">\n",
       "  <thead>\n",
       "    <tr style=\"text-align: right;\">\n",
       "      <th></th>\n",
       "      <th>Acedamic percentage in Operating Systems</th>\n",
       "      <th>percentage in Algorithms</th>\n",
       "      <th>Percentage in Programming Concepts</th>\n",
       "      <th>Percentage in Software Engineering</th>\n",
       "      <th>Percentage in Computer Networks</th>\n",
       "      <th>Percentage in Electronics Subjects</th>\n",
       "      <th>Percentage in Computer Architecture</th>\n",
       "      <th>Percentage in Mathematics</th>\n",
       "      <th>Percentage in Communication skills</th>\n",
       "      <th>academic_percentage</th>\n",
       "      <th>communication_percentage</th>\n",
       "      <th>teamwork_percentage</th>\n",
       "      <th>problem_solving_percentage</th>\n",
       "      <th>self_managment_percentage</th>\n",
       "      <th>knowledge_percentage</th>\n",
       "      <th>interests_percentage</th>\n",
       "    </tr>\n",
       "  </thead>\n",
       "  <tbody>\n",
       "    <tr>\n",
       "      <th>0</th>\n",
       "      <td>69</td>\n",
       "      <td>63</td>\n",
       "      <td>78</td>\n",
       "      <td>87</td>\n",
       "      <td>94</td>\n",
       "      <td>94</td>\n",
       "      <td>87</td>\n",
       "      <td>84</td>\n",
       "      <td>61</td>\n",
       "      <td>79.6667</td>\n",
       "      <td>66.6667</td>\n",
       "      <td>33.3333</td>\n",
       "      <td>24.3243</td>\n",
       "      <td>63.8889</td>\n",
       "      <td>50</td>\n",
       "      <td>70.8333</td>\n",
       "    </tr>\n",
       "    <tr>\n",
       "      <th>1</th>\n",
       "      <td>78</td>\n",
       "      <td>62</td>\n",
       "      <td>73</td>\n",
       "      <td>60</td>\n",
       "      <td>71</td>\n",
       "      <td>70</td>\n",
       "      <td>73</td>\n",
       "      <td>84</td>\n",
       "      <td>91</td>\n",
       "      <td>73.5556</td>\n",
       "      <td>41.6667</td>\n",
       "      <td>50</td>\n",
       "      <td>29.7297</td>\n",
       "      <td>25</td>\n",
       "      <td>57.6923</td>\n",
       "      <td>22.9167</td>\n",
       "    </tr>\n",
       "    <tr>\n",
       "      <th>2</th>\n",
       "      <td>71</td>\n",
       "      <td>86</td>\n",
       "      <td>91</td>\n",
       "      <td>87</td>\n",
       "      <td>61</td>\n",
       "      <td>81</td>\n",
       "      <td>72</td>\n",
       "      <td>72</td>\n",
       "      <td>94</td>\n",
       "      <td>79.4444</td>\n",
       "      <td>41.6667</td>\n",
       "      <td>50</td>\n",
       "      <td>18.9189</td>\n",
       "      <td>88.8889</td>\n",
       "      <td>53.8462</td>\n",
       "      <td>75</td>\n",
       "    </tr>\n",
       "    <tr>\n",
       "      <th>3</th>\n",
       "      <td>76</td>\n",
       "      <td>87</td>\n",
       "      <td>60</td>\n",
       "      <td>84</td>\n",
       "      <td>89</td>\n",
       "      <td>73</td>\n",
       "      <td>62</td>\n",
       "      <td>88</td>\n",
       "      <td>69</td>\n",
       "      <td>76.4444</td>\n",
       "      <td>50</td>\n",
       "      <td>33.3333</td>\n",
       "      <td>13.5135</td>\n",
       "      <td>75</td>\n",
       "      <td>53.8462</td>\n",
       "      <td>72.9167</td>\n",
       "    </tr>\n",
       "    <tr>\n",
       "      <th>4</th>\n",
       "      <td>92</td>\n",
       "      <td>62</td>\n",
       "      <td>90</td>\n",
       "      <td>67</td>\n",
       "      <td>71</td>\n",
       "      <td>89</td>\n",
       "      <td>73</td>\n",
       "      <td>71</td>\n",
       "      <td>73</td>\n",
       "      <td>76.4444</td>\n",
       "      <td>41.6667</td>\n",
       "      <td>50</td>\n",
       "      <td>40.5405</td>\n",
       "      <td>25</td>\n",
       "      <td>0</td>\n",
       "      <td>45.8333</td>\n",
       "    </tr>\n",
       "  </tbody>\n",
       "</table>\n",
       "</div>"
      ],
      "text/plain": [
       "  Acedamic percentage in Operating Systems percentage in Algorithms  \\\n",
       "0                                       69                       63   \n",
       "1                                       78                       62   \n",
       "2                                       71                       86   \n",
       "3                                       76                       87   \n",
       "4                                       92                       62   \n",
       "\n",
       "  Percentage in Programming Concepts Percentage in Software Engineering  \\\n",
       "0                                 78                                 87   \n",
       "1                                 73                                 60   \n",
       "2                                 91                                 87   \n",
       "3                                 60                                 84   \n",
       "4                                 90                                 67   \n",
       "\n",
       "  Percentage in Computer Networks Percentage in Electronics Subjects  \\\n",
       "0                              94                                 94   \n",
       "1                              71                                 70   \n",
       "2                              61                                 81   \n",
       "3                              89                                 73   \n",
       "4                              71                                 89   \n",
       "\n",
       "  Percentage in Computer Architecture Percentage in Mathematics  \\\n",
       "0                                  87                        84   \n",
       "1                                  73                        84   \n",
       "2                                  72                        72   \n",
       "3                                  62                        88   \n",
       "4                                  73                        71   \n",
       "\n",
       "  Percentage in Communication skills academic_percentage  \\\n",
       "0                                 61             79.6667   \n",
       "1                                 91             73.5556   \n",
       "2                                 94             79.4444   \n",
       "3                                 69             76.4444   \n",
       "4                                 73             76.4444   \n",
       "\n",
       "  communication_percentage teamwork_percentage problem_solving_percentage  \\\n",
       "0                  66.6667             33.3333                    24.3243   \n",
       "1                  41.6667                  50                    29.7297   \n",
       "2                  41.6667                  50                    18.9189   \n",
       "3                       50             33.3333                    13.5135   \n",
       "4                  41.6667                  50                    40.5405   \n",
       "\n",
       "  self_managment_percentage knowledge_percentage interests_percentage  \n",
       "0                   63.8889                   50              70.8333  \n",
       "1                        25              57.6923              22.9167  \n",
       "2                   88.8889              53.8462                   75  \n",
       "3                        75              53.8462              72.9167  \n",
       "4                        25                    0              45.8333  "
      ]
     },
     "execution_count": 164,
     "metadata": {},
     "output_type": "execute_result"
    }
   ],
   "source": [
    "X1.head()"
   ]
  },
  {
   "cell_type": "code",
   "execution_count": null,
   "metadata": {},
   "outputs": [],
   "source": []
  },
  {
   "cell_type": "code",
   "execution_count": null,
   "metadata": {},
   "outputs": [],
   "source": []
  },
  {
   "cell_type": "code",
   "execution_count": 297,
   "metadata": {},
   "outputs": [],
   "source": [
    "label = labelencoder.fit_transform(label)"
   ]
  },
  {
   "cell_type": "code",
   "execution_count": 298,
   "metadata": {},
   "outputs": [
    {
     "data": {
      "text/plain": [
       "array([ 7, 18, 18, ...,  1, 24,  0], dtype=int64)"
      ]
     },
     "execution_count": 298,
     "metadata": {},
     "output_type": "execute_result"
    }
   ],
   "source": [
    "label"
   ]
  },
  {
   "cell_type": "code",
   "execution_count": 287,
   "metadata": {},
   "outputs": [],
   "source": [
    "y=pd.DataFrame(label,columns=[\"Suggested Job Role\"])"
   ]
  },
  {
   "cell_type": "code",
   "execution_count": 288,
   "metadata": {},
   "outputs": [],
   "source": [
    "final_df = pd.concat((X1,y),axis=1)"
   ]
  },
  {
   "cell_type": "code",
   "execution_count": 289,
   "metadata": {},
   "outputs": [
    {
     "data": {
      "text/html": [
       "<div>\n",
       "<style scoped>\n",
       "    .dataframe tbody tr th:only-of-type {\n",
       "        vertical-align: middle;\n",
       "    }\n",
       "\n",
       "    .dataframe tbody tr th {\n",
       "        vertical-align: top;\n",
       "    }\n",
       "\n",
       "    .dataframe thead th {\n",
       "        text-align: right;\n",
       "    }\n",
       "</style>\n",
       "<table border=\"1\" class=\"dataframe\">\n",
       "  <thead>\n",
       "    <tr style=\"text-align: right;\">\n",
       "      <th></th>\n",
       "      <th>Acedamic percentage in Operating Systems</th>\n",
       "      <th>percentage in Algorithms</th>\n",
       "      <th>Percentage in Programming Concepts</th>\n",
       "      <th>Percentage in Software Engineering</th>\n",
       "      <th>Percentage in Computer Networks</th>\n",
       "      <th>Percentage in Electronics Subjects</th>\n",
       "      <th>Percentage in Computer Architecture</th>\n",
       "      <th>Percentage in Mathematics</th>\n",
       "      <th>Percentage in Communication skills</th>\n",
       "      <th>academic_percentage</th>\n",
       "      <th>communication_percentage</th>\n",
       "      <th>teamwork_percentage</th>\n",
       "      <th>problem_solving_percentage</th>\n",
       "      <th>self_managment_percentage</th>\n",
       "      <th>knowledge_percentage</th>\n",
       "      <th>interests_percentage</th>\n",
       "      <th>Suggested Job Role</th>\n",
       "    </tr>\n",
       "  </thead>\n",
       "  <tbody>\n",
       "    <tr>\n",
       "      <th>0</th>\n",
       "      <td>69</td>\n",
       "      <td>63</td>\n",
       "      <td>78</td>\n",
       "      <td>87</td>\n",
       "      <td>94</td>\n",
       "      <td>94</td>\n",
       "      <td>87</td>\n",
       "      <td>84</td>\n",
       "      <td>61</td>\n",
       "      <td>79.6667</td>\n",
       "      <td>66.6667</td>\n",
       "      <td>33.3333</td>\n",
       "      <td>24.3243</td>\n",
       "      <td>63.8889</td>\n",
       "      <td>50</td>\n",
       "      <td>70.8333</td>\n",
       "      <td>7</td>\n",
       "    </tr>\n",
       "    <tr>\n",
       "      <th>1</th>\n",
       "      <td>78</td>\n",
       "      <td>62</td>\n",
       "      <td>73</td>\n",
       "      <td>60</td>\n",
       "      <td>71</td>\n",
       "      <td>70</td>\n",
       "      <td>73</td>\n",
       "      <td>84</td>\n",
       "      <td>91</td>\n",
       "      <td>73.5556</td>\n",
       "      <td>41.6667</td>\n",
       "      <td>50</td>\n",
       "      <td>29.7297</td>\n",
       "      <td>25</td>\n",
       "      <td>57.6923</td>\n",
       "      <td>22.9167</td>\n",
       "      <td>18</td>\n",
       "    </tr>\n",
       "    <tr>\n",
       "      <th>2</th>\n",
       "      <td>71</td>\n",
       "      <td>86</td>\n",
       "      <td>91</td>\n",
       "      <td>87</td>\n",
       "      <td>61</td>\n",
       "      <td>81</td>\n",
       "      <td>72</td>\n",
       "      <td>72</td>\n",
       "      <td>94</td>\n",
       "      <td>79.4444</td>\n",
       "      <td>41.6667</td>\n",
       "      <td>50</td>\n",
       "      <td>18.9189</td>\n",
       "      <td>88.8889</td>\n",
       "      <td>53.8462</td>\n",
       "      <td>75</td>\n",
       "      <td>18</td>\n",
       "    </tr>\n",
       "    <tr>\n",
       "      <th>3</th>\n",
       "      <td>76</td>\n",
       "      <td>87</td>\n",
       "      <td>60</td>\n",
       "      <td>84</td>\n",
       "      <td>89</td>\n",
       "      <td>73</td>\n",
       "      <td>62</td>\n",
       "      <td>88</td>\n",
       "      <td>69</td>\n",
       "      <td>76.4444</td>\n",
       "      <td>50</td>\n",
       "      <td>33.3333</td>\n",
       "      <td>13.5135</td>\n",
       "      <td>75</td>\n",
       "      <td>53.8462</td>\n",
       "      <td>72.9167</td>\n",
       "      <td>28</td>\n",
       "    </tr>\n",
       "    <tr>\n",
       "      <th>4</th>\n",
       "      <td>92</td>\n",
       "      <td>62</td>\n",
       "      <td>90</td>\n",
       "      <td>67</td>\n",
       "      <td>71</td>\n",
       "      <td>89</td>\n",
       "      <td>73</td>\n",
       "      <td>71</td>\n",
       "      <td>73</td>\n",
       "      <td>76.4444</td>\n",
       "      <td>41.6667</td>\n",
       "      <td>50</td>\n",
       "      <td>40.5405</td>\n",
       "      <td>25</td>\n",
       "      <td>0</td>\n",
       "      <td>45.8333</td>\n",
       "      <td>2</td>\n",
       "    </tr>\n",
       "  </tbody>\n",
       "</table>\n",
       "</div>"
      ],
      "text/plain": [
       "  Acedamic percentage in Operating Systems percentage in Algorithms  \\\n",
       "0                                       69                       63   \n",
       "1                                       78                       62   \n",
       "2                                       71                       86   \n",
       "3                                       76                       87   \n",
       "4                                       92                       62   \n",
       "\n",
       "  Percentage in Programming Concepts Percentage in Software Engineering  \\\n",
       "0                                 78                                 87   \n",
       "1                                 73                                 60   \n",
       "2                                 91                                 87   \n",
       "3                                 60                                 84   \n",
       "4                                 90                                 67   \n",
       "\n",
       "  Percentage in Computer Networks Percentage in Electronics Subjects  \\\n",
       "0                              94                                 94   \n",
       "1                              71                                 70   \n",
       "2                              61                                 81   \n",
       "3                              89                                 73   \n",
       "4                              71                                 89   \n",
       "\n",
       "  Percentage in Computer Architecture Percentage in Mathematics  \\\n",
       "0                                  87                        84   \n",
       "1                                  73                        84   \n",
       "2                                  72                        72   \n",
       "3                                  62                        88   \n",
       "4                                  73                        71   \n",
       "\n",
       "  Percentage in Communication skills academic_percentage  \\\n",
       "0                                 61             79.6667   \n",
       "1                                 91             73.5556   \n",
       "2                                 94             79.4444   \n",
       "3                                 69             76.4444   \n",
       "4                                 73             76.4444   \n",
       "\n",
       "  communication_percentage teamwork_percentage problem_solving_percentage  \\\n",
       "0                  66.6667             33.3333                    24.3243   \n",
       "1                  41.6667                  50                    29.7297   \n",
       "2                  41.6667                  50                    18.9189   \n",
       "3                       50             33.3333                    13.5135   \n",
       "4                  41.6667                  50                    40.5405   \n",
       "\n",
       "  self_managment_percentage knowledge_percentage interests_percentage  \\\n",
       "0                   63.8889                   50              70.8333   \n",
       "1                        25              57.6923              22.9167   \n",
       "2                   88.8889              53.8462                   75   \n",
       "3                        75              53.8462              72.9167   \n",
       "4                        25                    0              45.8333   \n",
       "\n",
       "   Suggested Job Role  \n",
       "0                   7  \n",
       "1                  18  \n",
       "2                  18  \n",
       "3                  28  \n",
       "4                   2  "
      ]
     },
     "execution_count": 289,
     "metadata": {},
     "output_type": "execute_result"
    }
   ],
   "source": [
    "final_df.head()"
   ]
  },
  {
   "cell_type": "code",
   "execution_count": 224,
   "metadata": {},
   "outputs": [
    {
     "data": {
      "text/plain": [
       "(20000, 16)"
      ]
     },
     "execution_count": 224,
     "metadata": {},
     "output_type": "execute_result"
    }
   ],
   "source": [
    "X.shape"
   ]
  },
  {
   "cell_type": "code",
   "execution_count": 225,
   "metadata": {},
   "outputs": [
    {
     "data": {
      "text/plain": [
       "array([[69, 63, 78, ..., 63.888888888888886, 50.0, 70.83333333333334],\n",
       "       [78, 62, 73, ..., 25.0, 57.692307692307686, 22.916666666666664],\n",
       "       [71, 86, 91, ..., 88.88888888888889, 53.84615384615385, 75.0],\n",
       "       ...,\n",
       "       [83, 70, 80, ..., 44.44444444444444, 53.84615384615385, 31.25],\n",
       "       [68, 87, 91, ..., 83.33333333333334, 11.538461538461538, 75.0],\n",
       "       [73, 77, 74, ..., 25.0, 15.384615384615385, 29.166666666666668]],\n",
       "      dtype=object)"
      ]
     },
     "execution_count": 225,
     "metadata": {},
     "output_type": "execute_result"
    }
   ],
   "source": [
    "X"
   ]
  },
  {
   "cell_type": "code",
   "execution_count": 226,
   "metadata": {},
   "outputs": [],
   "source": [
    "Y=label"
   ]
  },
  {
   "cell_type": "code",
   "execution_count": 227,
   "metadata": {},
   "outputs": [
    {
     "data": {
      "text/plain": [
       "(20000,)"
      ]
     },
     "execution_count": 227,
     "metadata": {},
     "output_type": "execute_result"
    }
   ],
   "source": [
    "Y.shape"
   ]
  },
  {
   "cell_type": "code",
   "execution_count": 228,
   "metadata": {},
   "outputs": [
    {
     "data": {
      "text/plain": [
       "array([ 7, 18, 18, ...,  1, 24,  0])"
      ]
     },
     "execution_count": 228,
     "metadata": {},
     "output_type": "execute_result"
    }
   ],
   "source": [
    "Y"
   ]
  },
  {
   "cell_type": "code",
   "execution_count": 229,
   "metadata": {},
   "outputs": [],
   "source": [
    "from sklearn.feature_selection import SelectKBest\n",
    "from sklearn.feature_selection import chi2"
   ]
  },
  {
   "cell_type": "code",
   "execution_count": 230,
   "metadata": {},
   "outputs": [],
   "source": [
    "test = SelectKBest(score_func=chi2, k=16)\n",
    "fit = test.fit(X, Y)"
   ]
  },
  {
   "cell_type": "code",
   "execution_count": 231,
   "metadata": {},
   "outputs": [
    {
     "name": "stdout",
     "output_type": "stream",
     "text": [
      "[ 18.38034544  26.26991883  51.5398971   59.78959158  38.37664406\n",
      "  56.65610078  23.31612484  31.38669513  31.52321969   3.66516634\n",
      " 447.14703593 417.61605401 159.43569869 393.02932584 151.63485915\n",
      " 252.38229034]\n"
     ]
    }
   ],
   "source": [
    "np.set_printoptions(suppress=True)\n",
    "print(fit.scores_)"
   ]
  },
  {
   "cell_type": "code",
   "execution_count": 232,
   "metadata": {},
   "outputs": [],
   "source": [
    "from sklearn import tree\n",
    "from sklearn.model_selection import train_test_split\n",
    "from sklearn import preprocessing \n",
    "from sklearn.metrics import accuracy_score"
   ]
  },
  {
   "cell_type": "code",
   "execution_count": 242,
   "metadata": {},
   "outputs": [],
   "source": [
    "X_train,X_test,y_train,y_test=train_test_split(X,y,test_size=0.2,random_state=10)"
   ]
  },
  {
   "cell_type": "code",
   "execution_count": 243,
   "metadata": {},
   "outputs": [],
   "source": [
    "clf = tree.DecisionTreeClassifier()"
   ]
  },
  {
   "cell_type": "code",
   "execution_count": 244,
   "metadata": {},
   "outputs": [],
   "source": [
    "clf = clf.fit(X_train, y_train)"
   ]
  },
  {
   "cell_type": "code",
   "execution_count": 245,
   "metadata": {},
   "outputs": [],
   "source": [
    "from sklearn.metrics import confusion_matrix,accuracy_score"
   ]
  },
  {
   "cell_type": "code",
   "execution_count": 246,
   "metadata": {},
   "outputs": [],
   "source": [
    "y_pred = clf.predict(X_test)"
   ]
  },
  {
   "cell_type": "code",
   "execution_count": 247,
   "metadata": {},
   "outputs": [
    {
     "data": {
      "text/plain": [
       "array([31, 17, 15, ..., 23,  2, 21], dtype=int64)"
      ]
     },
     "execution_count": 247,
     "metadata": {},
     "output_type": "execute_result"
    }
   ],
   "source": [
    "y_pred"
   ]
  },
  {
   "cell_type": "code",
   "execution_count": 254,
   "metadata": {},
   "outputs": [],
   "source": [
    "cm = confusion_matrix(y_test,y_pred)\n",
    "accuracy = accuracy_score(y_test,y_pred)"
   ]
  },
  {
   "cell_type": "code",
   "execution_count": 257,
   "metadata": {},
   "outputs": [
    {
     "name": "stdout",
     "output_type": "stream",
     "text": [
      "confusion matrics= [[4 4 6 ... 2 1 5]\n",
      " [4 1 4 ... 2 2 5]\n",
      " [3 3 4 ... 4 1 3]\n",
      " ...\n",
      " [5 2 5 ... 2 4 3]\n",
      " [4 1 2 ... 4 4 4]\n",
      " [3 4 2 ... 1 5 2]]\n",
      "  \n",
      "accuracy= 3.6249999999999996\n"
     ]
    }
   ],
   "source": [
    "print(\"confusion matrics=\",cm)\n",
    "print(\"  \")\n",
    "print(\"accuracy=\",accuracy*100)"
   ]
  },
  {
   "cell_type": "code",
   "execution_count": 253,
   "metadata": {},
   "outputs": [
    {
     "data": {
      "text/html": [
       "<div>\n",
       "<style scoped>\n",
       "    .dataframe tbody tr th:only-of-type {\n",
       "        vertical-align: middle;\n",
       "    }\n",
       "\n",
       "    .dataframe tbody tr th {\n",
       "        vertical-align: top;\n",
       "    }\n",
       "\n",
       "    .dataframe thead th {\n",
       "        text-align: right;\n",
       "    }\n",
       "</style>\n",
       "<table border=\"1\" class=\"dataframe\">\n",
       "  <thead>\n",
       "    <tr style=\"text-align: right;\">\n",
       "      <th></th>\n",
       "      <th>Acedamic percentage in Operating Systems</th>\n",
       "      <th>percentage in Algorithms</th>\n",
       "      <th>Percentage in Programming Concepts</th>\n",
       "      <th>Percentage in Software Engineering</th>\n",
       "      <th>Percentage in Computer Networks</th>\n",
       "      <th>Percentage in Electronics Subjects</th>\n",
       "      <th>Percentage in Computer Architecture</th>\n",
       "      <th>Percentage in Mathematics</th>\n",
       "      <th>Percentage in Communication skills</th>\n",
       "      <th>academic_percentage</th>\n",
       "      <th>communication_percentage</th>\n",
       "      <th>teamwork_percentage</th>\n",
       "      <th>problem_solving_percentage</th>\n",
       "      <th>self_managment_percentage</th>\n",
       "      <th>knowledge_percentage</th>\n",
       "      <th>interests_percentage</th>\n",
       "      <th>Suggested Job Role</th>\n",
       "    </tr>\n",
       "  </thead>\n",
       "  <tbody>\n",
       "    <tr>\n",
       "      <th>0</th>\n",
       "      <td>69</td>\n",
       "      <td>63</td>\n",
       "      <td>78</td>\n",
       "      <td>87</td>\n",
       "      <td>94</td>\n",
       "      <td>94</td>\n",
       "      <td>87</td>\n",
       "      <td>84</td>\n",
       "      <td>61</td>\n",
       "      <td>79.6667</td>\n",
       "      <td>66.6667</td>\n",
       "      <td>33.3333</td>\n",
       "      <td>24.3243</td>\n",
       "      <td>63.8889</td>\n",
       "      <td>50</td>\n",
       "      <td>70.8333</td>\n",
       "      <td>7</td>\n",
       "    </tr>\n",
       "    <tr>\n",
       "      <th>1</th>\n",
       "      <td>78</td>\n",
       "      <td>62</td>\n",
       "      <td>73</td>\n",
       "      <td>60</td>\n",
       "      <td>71</td>\n",
       "      <td>70</td>\n",
       "      <td>73</td>\n",
       "      <td>84</td>\n",
       "      <td>91</td>\n",
       "      <td>73.5556</td>\n",
       "      <td>41.6667</td>\n",
       "      <td>50</td>\n",
       "      <td>29.7297</td>\n",
       "      <td>25</td>\n",
       "      <td>57.6923</td>\n",
       "      <td>22.9167</td>\n",
       "      <td>18</td>\n",
       "    </tr>\n",
       "    <tr>\n",
       "      <th>2</th>\n",
       "      <td>71</td>\n",
       "      <td>86</td>\n",
       "      <td>91</td>\n",
       "      <td>87</td>\n",
       "      <td>61</td>\n",
       "      <td>81</td>\n",
       "      <td>72</td>\n",
       "      <td>72</td>\n",
       "      <td>94</td>\n",
       "      <td>79.4444</td>\n",
       "      <td>41.6667</td>\n",
       "      <td>50</td>\n",
       "      <td>18.9189</td>\n",
       "      <td>88.8889</td>\n",
       "      <td>53.8462</td>\n",
       "      <td>75</td>\n",
       "      <td>18</td>\n",
       "    </tr>\n",
       "    <tr>\n",
       "      <th>3</th>\n",
       "      <td>76</td>\n",
       "      <td>87</td>\n",
       "      <td>60</td>\n",
       "      <td>84</td>\n",
       "      <td>89</td>\n",
       "      <td>73</td>\n",
       "      <td>62</td>\n",
       "      <td>88</td>\n",
       "      <td>69</td>\n",
       "      <td>76.4444</td>\n",
       "      <td>50</td>\n",
       "      <td>33.3333</td>\n",
       "      <td>13.5135</td>\n",
       "      <td>75</td>\n",
       "      <td>53.8462</td>\n",
       "      <td>72.9167</td>\n",
       "      <td>28</td>\n",
       "    </tr>\n",
       "    <tr>\n",
       "      <th>4</th>\n",
       "      <td>92</td>\n",
       "      <td>62</td>\n",
       "      <td>90</td>\n",
       "      <td>67</td>\n",
       "      <td>71</td>\n",
       "      <td>89</td>\n",
       "      <td>73</td>\n",
       "      <td>71</td>\n",
       "      <td>73</td>\n",
       "      <td>76.4444</td>\n",
       "      <td>41.6667</td>\n",
       "      <td>50</td>\n",
       "      <td>40.5405</td>\n",
       "      <td>25</td>\n",
       "      <td>0</td>\n",
       "      <td>45.8333</td>\n",
       "      <td>2</td>\n",
       "    </tr>\n",
       "  </tbody>\n",
       "</table>\n",
       "</div>"
      ],
      "text/plain": [
       "  Acedamic percentage in Operating Systems percentage in Algorithms  \\\n",
       "0                                       69                       63   \n",
       "1                                       78                       62   \n",
       "2                                       71                       86   \n",
       "3                                       76                       87   \n",
       "4                                       92                       62   \n",
       "\n",
       "  Percentage in Programming Concepts Percentage in Software Engineering  \\\n",
       "0                                 78                                 87   \n",
       "1                                 73                                 60   \n",
       "2                                 91                                 87   \n",
       "3                                 60                                 84   \n",
       "4                                 90                                 67   \n",
       "\n",
       "  Percentage in Computer Networks Percentage in Electronics Subjects  \\\n",
       "0                              94                                 94   \n",
       "1                              71                                 70   \n",
       "2                              61                                 81   \n",
       "3                              89                                 73   \n",
       "4                              71                                 89   \n",
       "\n",
       "  Percentage in Computer Architecture Percentage in Mathematics  \\\n",
       "0                                  87                        84   \n",
       "1                                  73                        84   \n",
       "2                                  72                        72   \n",
       "3                                  62                        88   \n",
       "4                                  73                        71   \n",
       "\n",
       "  Percentage in Communication skills academic_percentage  \\\n",
       "0                                 61             79.6667   \n",
       "1                                 91             73.5556   \n",
       "2                                 94             79.4444   \n",
       "3                                 69             76.4444   \n",
       "4                                 73             76.4444   \n",
       "\n",
       "  communication_percentage teamwork_percentage problem_solving_percentage  \\\n",
       "0                  66.6667             33.3333                    24.3243   \n",
       "1                  41.6667                  50                    29.7297   \n",
       "2                  41.6667                  50                    18.9189   \n",
       "3                       50             33.3333                    13.5135   \n",
       "4                  41.6667                  50                    40.5405   \n",
       "\n",
       "  self_managment_percentage knowledge_percentage interests_percentage  \\\n",
       "0                   63.8889                   50              70.8333   \n",
       "1                        25              57.6923              22.9167   \n",
       "2                   88.8889              53.8462                   75   \n",
       "3                        75              53.8462              72.9167   \n",
       "4                        25                    0              45.8333   \n",
       "\n",
       "   Suggested Job Role  \n",
       "0                   7  \n",
       "1                  18  \n",
       "2                  18  \n",
       "3                  28  \n",
       "4                   2  "
      ]
     },
     "execution_count": 253,
     "metadata": {},
     "output_type": "execute_result"
    }
   ],
   "source": [
    "final_df.head()"
   ]
  },
  {
   "cell_type": "code",
   "execution_count": 276,
   "metadata": {},
   "outputs": [],
   "source": [
    "test=X[0,:]"
   ]
  },
  {
   "cell_type": "code",
   "execution_count": 277,
   "metadata": {},
   "outputs": [
    {
     "data": {
      "text/plain": [
       "array([69, 63, 78, 87, 94, 94, 87, 84, 61, 79.66666666666667,\n",
       "       66.66666666666666, 33.33333333333333, 24.324324324324326,\n",
       "       63.888888888888886, 50.0, 70.83333333333334], dtype=object)"
      ]
     },
     "execution_count": 277,
     "metadata": {},
     "output_type": "execute_result"
    }
   ],
   "source": [
    "test"
   ]
  },
  {
   "cell_type": "code",
   "execution_count": 278,
   "metadata": {},
   "outputs": [
    {
     "data": {
      "text/plain": [
       "dtype('O')"
      ]
     },
     "execution_count": 278,
     "metadata": {},
     "output_type": "execute_result"
    }
   ],
   "source": [
    "X_test.dtype"
   ]
  },
  {
   "cell_type": "code",
   "execution_count": 282,
   "metadata": {},
   "outputs": [],
   "source": [
    "test=test.reshape(1, -1)"
   ]
  },
  {
   "cell_type": "code",
   "execution_count": 284,
   "metadata": {},
   "outputs": [],
   "source": [
    "pred = clf.predict(test)\n"
   ]
  },
  {
   "cell_type": "code",
   "execution_count": 285,
   "metadata": {},
   "outputs": [
    {
     "data": {
      "text/plain": [
       "array([7], dtype=int64)"
      ]
     },
     "execution_count": 285,
     "metadata": {},
     "output_type": "execute_result"
    }
   ],
   "source": [
    "pred"
   ]
  },
  {
   "cell_type": "code",
   "execution_count": null,
   "metadata": {},
   "outputs": [],
   "source": []
  }
 ],
 "metadata": {
  "kernelspec": {
   "display_name": "Python 3",
   "language": "python",
   "name": "python3"
  },
  "language_info": {
   "codemirror_mode": {
    "name": "ipython",
    "version": 3
   },
   "file_extension": ".py",
   "mimetype": "text/x-python",
   "name": "python",
   "nbconvert_exporter": "python",
   "pygments_lexer": "ipython3",
   "version": "3.7.3"
  }
 },
 "nbformat": 4,
 "nbformat_minor": 2
}
